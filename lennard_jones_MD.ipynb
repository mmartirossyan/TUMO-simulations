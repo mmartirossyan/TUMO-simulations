{
 "cells": [
  {
   "cell_type": "markdown",
   "metadata": {},
   "source": [
    "### Importing modules"
   ]
  },
  {
   "cell_type": "code",
   "execution_count": null,
   "metadata": {},
   "outputs": [],
   "source": [
    "import hoomd\n",
    "import hoomd.md\n",
    "import gsd, gsd.hoomd\n",
    "import plato.draw.vispy as draw\n",
    "import ipywidgets as widgets\n",
    "import random\n",
    "import numpy as np\n",
    "import matplotlib.pyplot as pp"
   ]
  },
  {
   "cell_type": "markdown",
   "metadata": {},
   "source": [
    "### Simulation setup"
   ]
  },
  {
   "cell_type": "code",
   "execution_count": null,
   "metadata": {},
   "outputs": [],
   "source": [
    "hoomd.context.initialize(\"\")"
   ]
  },
  {
   "cell_type": "code",
   "execution_count": null,
   "metadata": {},
   "outputs": [],
   "source": [
    "# setting parameters\n",
    "\n",
    "# number of particles, cube root\n",
    "# represents number of particles along one side of our 3D box\n",
    "num_particles_cubert = 10\n",
    "\n",
    "# lattice constant defines spacing between particles\n",
    "lattice_const = 3.0\n",
    "\n",
    "# temperature settings\n",
    "startTemp = 1.0\n",
    "endTemp = 0.1\n",
    "\n",
    "# set simulation length\n",
    "timeSteps = 1e6"
   ]
  },
  {
   "cell_type": "code",
   "execution_count": null,
   "metadata": {},
   "outputs": [],
   "source": [
    "system = hoomd.init.create_lattice(unitcell=hoomd.lattice.sc(a=lattice_const), n=num_particles_cubert)\n",
    "\n",
    "# randomize velocities based on temperature\n",
    "for p in system.particles:\n",
    "    mass = p.mass;\n",
    "    vx = random.gauss(0, startTemp / mass)\n",
    "    vy = random.gauss(0, startTemp / mass)\n",
    "    vz = random.gauss(0, startTemp / mass)\n",
    "    p.velocity = (vx, vy, vz)"
   ]
  },
  {
   "cell_type": "code",
   "execution_count": null,
   "metadata": {},
   "outputs": [],
   "source": [
    "# generate the pair interaction potential\n",
    "\n",
    "nl = hoomd.md.nlist.cell()\n",
    "lj = hoomd.md.pair.lj(r_cut=2.5, nlist=nl)\n",
    "lj.pair_coeff.set('A', 'A', epsilon=1.0, sigma=1.0)"
   ]
  },
  {
   "cell_type": "code",
   "execution_count": null,
   "metadata": {},
   "outputs": [],
   "source": [
    "# set integration parameters\n",
    "\n",
    "hoomd.md.integrate.mode_standard(dt=0.005)\n",
    "\n",
    "all = hoomd.group.all()\n",
    "hoomd.md.integrate.nvt(group=all, \n",
    "                       kT=hoomd.variant.linear_interp(points = [(0, startTemp), (timeSteps, endTemp)]), \n",
    "                       tau=1.0)"
   ]
  },
  {
   "cell_type": "code",
   "execution_count": null,
   "metadata": {},
   "outputs": [],
   "source": [
    "# record data\n",
    "\n",
    "# for visualization\n",
    "hoomd.dump.gsd(\"dump.gsd\", period=timeSteps*1e-2, group=all, overwrite=True)\n",
    "\n",
    "# for plots\n",
    "hoomd.analyze.log(filename=\"dump.log\",\n",
    "                  quantities=['time', 'potential_energy', 'temperature'],\n",
    "                  period=timeSteps*1e-2,\n",
    "                  overwrite=True)"
   ]
  },
  {
   "cell_type": "code",
   "execution_count": null,
   "metadata": {},
   "outputs": [],
   "source": [
    "# running simulation\n",
    "\n",
    "hoomd.run(timeSteps)"
   ]
  },
  {
   "cell_type": "markdown",
   "metadata": {},
   "source": [
    "### Visualizing simulation"
   ]
  },
  {
   "cell_type": "code",
   "execution_count": null,
   "metadata": {},
   "outputs": [],
   "source": [
    "def getFrameCount(fname):\n",
    "    \"\"\"\n",
    "    inputs: fname, the filename (ex: 'dump.gsd')\n",
    "    outputs: len(traj), number of frames in simulation\n",
    "    \"\"\"\n",
    "    with gsd.hoomd.open(fname, 'rb') as traj:\n",
    "        return len(traj)"
   ]
  },
  {
   "cell_type": "code",
   "execution_count": null,
   "metadata": {},
   "outputs": [],
   "source": [
    "filename = 'dump.gsd'\n",
    "frame_num = getFrameCount(filename)"
   ]
  },
  {
   "cell_type": "code",
   "execution_count": null,
   "metadata": {},
   "outputs": [],
   "source": [
    "# function for centering droplet\n",
    "def centercrystal(simulationbox,particlepositions):\n",
    "    \"\"\"\n",
    "    Recentering the positions of all particles relative to COM, because otherwise they are split across the \"box\"\n",
    "    Algorithm projects points along 3 orthogonal cylinders, finds COM, projects back into real space\n",
    "    Useful resource w/ similar algorithm: https://www.cs.drexel.edu/~david/Papers/Bai_JGT.pdf\n",
    "    \n",
    "    inputs:\n",
    "    simulationbox= 6x1 array of the box dimensions [Lx Ly Lz xy xz yz]\n",
    "    particlepositions= the positions of the particles from the snapshot, #particles x 3 dimensions (xyz) array\n",
    "    \n",
    "    \"\"\"    \n",
    "    #center particles\n",
    "    simbox=[simulationbox[3]-simulationbox[0], simulationbox[4]-simulationbox[1], simulationbox[5]-simulationbox[2]]\n",
    "    theta = (particlepositions / simbox + .5) * 2 * np.pi\n",
    "    sums = np.sum(np.exp(1j * theta), axis = 0)\n",
    "    fractions = np.angle(sums) / 2 / np.pi\n",
    "    fractions %= 1.\n",
    "    fractions -= .5\n",
    "    delta = fractions * simbox\n",
    "    pos_CM=np.copy(particlepositions)\n",
    "    pos_CM[:] -= delta[np.newaxis, :]\n",
    "    \n",
    "    # wrap particles back into box\n",
    "    pos_CM[pos_CM[:, 0] > simulationbox[0]/2] -= [simulationbox[0], 0, 0]\n",
    "    pos_CM[pos_CM[:, 1] > simulationbox[1]/2] -= [0, simulationbox[1], 0]\n",
    "    pos_CM[pos_CM[:, 2] > simulationbox[2]/2] -= [0, 0, simulationbox[2]]\n",
    "    pos_CM[pos_CM[:, 0] < -simulationbox[0]/2] += [simulationbox[0], 0, 0]\n",
    "    pos_CM[pos_CM[:, 1] < -simulationbox[1]/2] += [0, simulationbox[1], 0]\n",
    "    pos_CM[pos_CM[:, 2] < -simulationbox[2]/2] += [0, 0, simulationbox[2]]\n",
    "    \n",
    "    return pos_CM"
   ]
  },
  {
   "cell_type": "code",
   "execution_count": null,
   "metadata": {},
   "outputs": [],
   "source": [
    "prim = draw.Spheres()\n",
    "box_prim = draw.Box(color=(0, 0, 0, 1), width=.2) #box\n",
    "scene = draw.Scene([prim, box_prim], zoom=.5, clip_scale=5) #box\n",
    "#scene = draw.Scene(prim) # no box\n",
    "scene.show()\n",
    "\n",
    "# looping over frames\n",
    "@widgets.interact(frame_index=(0, frame_num-1, 1))\n",
    "def plot(frame_index=0):\n",
    "    with gsd.hoomd.open(filename, 'rb') as traj:\n",
    "        frame = traj[frame_index]\n",
    "        box = frame.configuration.box\n",
    "        for (name, val) in zip(['Lx', 'Ly', 'Lz', 'xy', 'xz', 'yz'], box):\n",
    "            setattr(box_prim, name, val)  \n",
    "        \n",
    "        # grabbing particle positions and diameters from simulation file\n",
    "        prim.positions = centercrystal(box, frame.particles.position)\n",
    "        #prim.positions = frame.particles.position\n",
    "        prim.diameters = np.full(len(frame.particles.position), 1)\n",
    "        \n",
    "        # setting particle colors\n",
    "        colors = np.ones((len(prim.positions), 4))\n",
    "        colors[:, :3] = np.float32(np.divide([255, 50, 150], 255)) #pink\n",
    "        prim.colors = colors\n",
    "    scene.render()"
   ]
  },
  {
   "cell_type": "markdown",
   "metadata": {},
   "source": [
    "### Plotting simulation data over time"
   ]
  },
  {
   "cell_type": "code",
   "execution_count": null,
   "metadata": {},
   "outputs": [],
   "source": [
    "data = np.genfromtxt(fname='dump.log', skip_header=True);"
   ]
  },
  {
   "cell_type": "code",
   "execution_count": null,
   "metadata": {},
   "outputs": [],
   "source": [
    "pp.figure(figsize=(4,2.2), dpi=140)\n",
    "pp.plot(data[:,1], data[:,2])\n",
    "pp.xlabel('time')\n",
    "pp.ylabel('potential energy')"
   ]
  },
  {
   "cell_type": "code",
   "execution_count": null,
   "metadata": {},
   "outputs": [],
   "source": [
    "pp.figure(figsize=(4,2.2), dpi=140);\n",
    "pp.plot(data[:,1], data[:,3]);\n",
    "pp.xlabel('time');\n",
    "pp.ylabel('temperature');"
   ]
  },
  {
   "cell_type": "code",
   "execution_count": null,
   "metadata": {},
   "outputs": [],
   "source": []
  }
 ],
 "metadata": {
  "kernelspec": {
   "display_name": "Python 3",
   "language": "python",
   "name": "python3"
  },
  "language_info": {
   "codemirror_mode": {
    "name": "ipython",
    "version": 3
   },
   "file_extension": ".py",
   "mimetype": "text/x-python",
   "name": "python",
   "nbconvert_exporter": "python",
   "pygments_lexer": "ipython3",
   "version": "3.8.10"
  }
 },
 "nbformat": 4,
 "nbformat_minor": 4
}
