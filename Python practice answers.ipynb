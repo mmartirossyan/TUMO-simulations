{
 "cells": [
  {
   "cell_type": "markdown",
   "metadata": {},
   "source": [
    "Python practice\n",
    "====\n",
    "Adapted from: https://whitead.github.io/numerical_stats/\n",
    "\n",
    "----"
   ]
  },
  {
   "cell_type": "markdown",
   "metadata": {},
   "source": [
    "# 1. String Formatting\n",
    "\n",
    "1. Print $\\sin 0.5$ to 5 digits of precision\n",
    "2. Create a variable with a value of pi using the `math` module. Print it with 3 digits of precision\n",
    "3. Print out the number 65,535 as binary using string formatting. (Don't convert it to binary on your own)"
   ]
  },
  {
   "cell_type": "code",
   "execution_count": 24,
   "metadata": {},
   "outputs": [
    {
     "name": "stdout",
     "output_type": "stream",
     "text": [
      "0.47943\n"
     ]
    }
   ],
   "source": [
    "#1.1\n",
    "import math\n",
    "\n",
    "print('{:.5f}'.format(math.sin(0.5)))"
   ]
  },
  {
   "cell_type": "code",
   "execution_count": 25,
   "metadata": {},
   "outputs": [
    {
     "name": "stdout",
     "output_type": "stream",
     "text": [
      "3.142\n"
     ]
    }
   ],
   "source": [
    "#1.2\n",
    "print('{:.3f}'.format(math.pi))"
   ]
  },
  {
   "cell_type": "code",
   "execution_count": 26,
   "metadata": {},
   "outputs": [
    {
     "name": "stdout",
     "output_type": "stream",
     "text": [
      "1111111111111111\n"
     ]
    }
   ],
   "source": [
    "#1.3\n",
    "print('{:b}'.format(65535))"
   ]
  },
  {
   "cell_type": "markdown",
   "metadata": {},
   "source": [
    "# 2. Booleans\n",
    "\n",
    "1. Write an `if` statement that prints if a variable `v` is positive or negative. Demonstrate it by setting `v` to -1 and then 1.\n",
    "\n",
    "2. Write an `if` statement that will print `foo` if a string has more than 5 characters and `bar` otherwise. Demonstrate with a variable whose value is `foobar`. \n",
    "\n",
    "3. Write an `if` statement to check if the character `*` is in a string and prints `hello` if it is.  Demonstrate with a varaible whose value is `fizz*buzz`. "
   ]
  },
  {
   "cell_type": "code",
   "execution_count": 27,
   "metadata": {},
   "outputs": [
    {
     "name": "stdout",
     "output_type": "stream",
     "text": [
      "negative\n",
      "positive\n"
     ]
    }
   ],
   "source": [
    "#2.1\n",
    "v = -1\n",
    "if v < 0:\n",
    "    print('negative')\n",
    "else:\n",
    "    print('positive')\n",
    "\n",
    "v = 1\n",
    "if v < 0:\n",
    "    print('negative')\n",
    "else:\n",
    "    print('positive')"
   ]
  },
  {
   "cell_type": "code",
   "execution_count": 28,
   "metadata": {},
   "outputs": [
    {
     "name": "stdout",
     "output_type": "stream",
     "text": [
      "foo\n"
     ]
    }
   ],
   "source": [
    "#2.2\n",
    "s = 'foobar'\n",
    "\n",
    "if len(s) > 5:\n",
    "    print('foo')\n",
    "else:\n",
    "    print('bar')"
   ]
  },
  {
   "cell_type": "code",
   "execution_count": 29,
   "metadata": {},
   "outputs": [
    {
     "name": "stdout",
     "output_type": "stream",
     "text": [
      "hello\n"
     ]
    }
   ],
   "source": [
    "#2.3\n",
    "s = 'fizz*buzz'\n",
    "if '*' in s:\n",
    "    print('hello')"
   ]
  },
  {
   "cell_type": "markdown",
   "metadata": {},
   "source": [
    "# 3. Lists\n",
    "\n",
    "Use this list to answer the questions: `['A', 'B', 'C', 'D', 'E', 'F', 'G']`\n",
    "\n",
    "1. Print out the second to last element of the list using a negative index.\n",
    "2. Print out the last three elements of the list using negative indices.\n",
    "3. Print out the middle element of the list using the `len` function\n",
    "4. Print every other element of the list.\n",
    "5. Print every other element of the list starting from the second element."
   ]
  },
  {
   "cell_type": "code",
   "execution_count": 30,
   "metadata": {},
   "outputs": [
    {
     "name": "stdout",
     "output_type": "stream",
     "text": [
      "F\n"
     ]
    }
   ],
   "source": [
    "v = ['A', 'B', 'C', 'D', 'E', 'F', 'G']\n",
    "\n",
    "#3.1\n",
    "print(v[-2])"
   ]
  },
  {
   "cell_type": "code",
   "execution_count": 31,
   "metadata": {},
   "outputs": [
    {
     "name": "stdout",
     "output_type": "stream",
     "text": [
      "['E', 'F', 'G']\n"
     ]
    }
   ],
   "source": [
    "#3.2\n",
    "print(v[-3:])"
   ]
  },
  {
   "cell_type": "code",
   "execution_count": 32,
   "metadata": {},
   "outputs": [
    {
     "name": "stdout",
     "output_type": "stream",
     "text": [
      "D\n"
     ]
    }
   ],
   "source": [
    "#3.3\n",
    "print(v[len(v)//2])"
   ]
  },
  {
   "cell_type": "code",
   "execution_count": 33,
   "metadata": {},
   "outputs": [
    {
     "name": "stdout",
     "output_type": "stream",
     "text": [
      "['A', 'C', 'E', 'G']\n"
     ]
    }
   ],
   "source": [
    "#3.4\n",
    "print(v[::2])"
   ]
  },
  {
   "cell_type": "code",
   "execution_count": 34,
   "metadata": {},
   "outputs": [
    {
     "name": "stdout",
     "output_type": "stream",
     "text": [
      "['B', 'D', 'F']\n"
     ]
    }
   ],
   "source": [
    "#3.5\n",
    "print(v[1::2])"
   ]
  },
  {
   "cell_type": "markdown",
   "metadata": {},
   "source": [
    "# 4. For and while loops\n",
    "\n",
    "1. Create a variable called x which is a list containing all even numbers less than 100 using the list(range(...)) syntax.\n",
    "2. Compute the sum of x with a for loop.\n",
    "3. Create a new empty list y. Using a for loop and the append keyword, make y contain the square of each element of x. So it should contain: [4, 16, ..., ]\n",
    "4. Create a while loop that prints 'hello' three times and then stops."
   ]
  },
  {
   "cell_type": "code",
   "execution_count": 35,
   "metadata": {},
   "outputs": [
    {
     "name": "stdout",
     "output_type": "stream",
     "text": [
      "[2, 4, 6, 8, 10, 12, 14, 16, 18, 20, 22, 24, 26, 28, 30, 32, 34, 36, 38, 40, 42, 44, 46, 48, 50, 52, 54, 56, 58, 60, 62, 64, 66, 68, 70, 72, 74, 76, 78, 80, 82, 84, 86, 88, 90, 92, 94, 96, 98]\n"
     ]
    }
   ],
   "source": [
    "#4.1\n",
    "x = list(range(2,100,2))\n",
    "print(x)"
   ]
  },
  {
   "cell_type": "code",
   "execution_count": 36,
   "metadata": {},
   "outputs": [
    {
     "name": "stdout",
     "output_type": "stream",
     "text": [
      "2450\n"
     ]
    }
   ],
   "source": [
    "#4.2\n",
    "s = 0\n",
    "for i in x:\n",
    "    s += i\n",
    "print(s)"
   ]
  },
  {
   "cell_type": "code",
   "execution_count": 37,
   "metadata": {},
   "outputs": [
    {
     "name": "stdout",
     "output_type": "stream",
     "text": [
      "[4, 16, 36, 64, 100, 144, 196, 256, 324, 400, 484, 576, 676, 784, 900, 1024, 1156, 1296, 1444, 1600, 1764, 1936, 2116, 2304, 2500, 2704, 2916, 3136, 3364, 3600, 3844, 4096, 4356, 4624, 4900, 5184, 5476, 5776, 6084, 6400, 6724, 7056, 7396, 7744, 8100, 8464, 8836, 9216, 9604]\n"
     ]
    }
   ],
   "source": [
    "#4.3\n",
    "y = []\n",
    "for i in x:\n",
    "    y.append(i**2)\n",
    "print(y)"
   ]
  },
  {
   "cell_type": "code",
   "execution_count": 38,
   "metadata": {},
   "outputs": [
    {
     "name": "stdout",
     "output_type": "stream",
     "text": [
      "hello\n",
      "hello\n",
      "hello\n"
     ]
    }
   ],
   "source": [
    "#4.4\n",
    "i = 0\n",
    "while i<3:\n",
    "    print('hello')\n",
    "    i += 1"
   ]
  },
  {
   "cell_type": "markdown",
   "metadata": {},
   "source": [
    "# 5. Numpy\n",
    "\n",
    "1. Create a variable called `a` which is an array containing all even numbers less than 100 using the numpy arange syntax.\n",
    "2. Print the minimum, maximum, and mean elements of the array `a` using numpy functions."
   ]
  },
  {
   "cell_type": "code",
   "execution_count": 17,
   "metadata": {},
   "outputs": [
    {
     "name": "stdout",
     "output_type": "stream",
     "text": [
      "[ 0  2  4  6  8 10 12 14 16 18 20 22 24 26 28 30 32 34 36 38 40 42 44 46\n",
      " 48 50 52 54 56 58 60 62 64 66 68 70 72 74 76 78 80 82 84 86 88 90 92 94\n",
      " 96 98]\n"
     ]
    }
   ],
   "source": [
    "import numpy as np\n",
    "\n",
    "#5.1\n",
    "a = np.arange(0, 100, 2)\n",
    "print(a)"
   ]
  },
  {
   "cell_type": "code",
   "execution_count": 18,
   "metadata": {},
   "outputs": [
    {
     "name": "stdout",
     "output_type": "stream",
     "text": [
      "0\n",
      "98\n",
      "49.0\n"
     ]
    }
   ],
   "source": [
    "#5.2\n",
    "print(np.min(a))\n",
    "print(np.max(a))\n",
    "print(np.mean(a))"
   ]
  },
  {
   "cell_type": "markdown",
   "metadata": {},
   "source": [
    "# 6. Plotting\n",
    "\n",
    "For each problem below, use numpy to create `x` and `y` arrays which are plotted. Be sure to label your x-axis, y-axis, put the problem number as the title, use at least 500 points, make your figures be 4x3 inches, and add a legend if you have more than one line being plotted.\n",
    "\n",
    "1. Plot $y = x^2$ from $-1$ to $1$\n",
    "2. Plot both functions on the same plot: $\\cos x$ and $\\cosh x - 1$ from $-\\pi/2$ to $\\pi/2$"
   ]
  },
  {
   "cell_type": "code",
   "execution_count": 20,
   "metadata": {},
   "outputs": [
    {
     "data": {
      "image/png": "[encoded data removed]",
      "text/plain": [
       "<Figure size 288x216 with 1 Axes>"
      ]
     },
     "metadata": {
      "needs_background": "light"
     },
     "output_type": "display_data"
    }
   ],
   "source": [
    "import matplotlib.pyplot as pp\n",
    "%matplotlib inline\n",
    "\n",
    "#6.1\n",
    "x = np.linspace(-1, 1, 500)\n",
    "y = x**2\n",
    "\n",
    "pp.figure(figsize=(4,3))\n",
    "pp.plot(x,y)\n",
    "pp.xlabel('$x$')\n",
    "pp.ylabel('$y$')\n",
    "pp.title('Problem 6.1')\n",
    "pp.show()"
   ]
  },
  {
   "cell_type": "code",
   "execution_count": 22,
   "metadata": {},
   "outputs": [
    {
     "data": {
      "image/png": "[encoded data removed]",
      "text/plain": [
       "<Figure size 288x216 with 1 Axes>"
      ]
     },
     "metadata": {
      "needs_background": "light"
     },
     "output_type": "display_data"
    }
   ],
   "source": [
    "#6.2\n",
    "\n",
    "x = np.linspace(-np.pi/2, np.pi/2, 500)\n",
    "y1 = np.cos(x)\n",
    "y2 = np.cosh(x) - 1\n",
    "\n",
    "pp.figure(figsize=(4,3))\n",
    "pp.plot(x,y1, label='$\\cos x$')\n",
    "pp.plot(x,y2, label='$\\cosh x$')\n",
    "pp.legend()\n",
    "pp.xlabel('$x$')\n",
    "pp.ylabel('$y$')\n",
    "pp.title('Problem 6.2')\n",
    "pp.show()"
   ]
  },
  {
   "cell_type": "code",
   "execution_count": null,
   "metadata": {},
   "outputs": [],
   "source": []
  }
 ],
 "metadata": {
  "kernelspec": {
   "display_name": "Python 3",
   "language": "python",
   "name": "python3"
  },
  "language_info": {
   "codemirror_mode": {
    "name": "ipython",
    "version": 3
   },
   "file_extension": ".py",
   "mimetype": "text/x-python",
   "name": "python",
   "nbconvert_exporter": "python",
   "pygments_lexer": "ipython3",
   "version": "3.8.10"
  }
 },
 "nbformat": 4,
 "nbformat_minor": 2
}
