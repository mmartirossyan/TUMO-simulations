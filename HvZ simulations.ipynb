{
 "cells": [
  {
   "cell_type": "markdown",
   "metadata": {},
   "source": [
    "# Humans vs Zombies: who will win?"
   ]
  },
  {
   "cell_type": "markdown",
   "metadata": {},
   "source": [
    "Activity created by Maya Martirossyan and Rachael Skye, and adapted from Statistical Mechanics by Prof. James Sethna: https://sethna.lassp.cornell.edu/statistical_mechanics_entropy_order_parameters_and_complexity\n",
    "\n",
    "Interested in finding out who would win in the zombie apocalypse? \n",
    "\n",
    "Physicists use mathematical models and computational tools to study complex behaviors in populations. Examples of such models include predator/prey models (https://en.wikipedia.org/wiki/Lotka%E2%80%93Volterra_equations), or the SIR model (susceptible - infected - removed: https://en.wikipedia.org/wiki/Compartmental_models_in_epidemiology#The_SIR_model) which we use to model disease spread.\n",
    "\n",
    "Today, we are not going to delve into the complex mathematics behind such models, but take a particular model and study its behavior. We're going to use the \"HZ model\" -- H for humans, Z for zombies as the two populations in question (this is loosely based off the SIR model for those who are curious). We will consider two main actions: zombies biting humans and turning them into zombies, and humans killing zombies. We will define the rates of those actions: the `biteRate`, and the `killRate`. Based on those two rates, we can use something called the Gillespie algorithm (https://en.wikipedia.org/wiki/Gillespie_algorithm) to step forward in time and see how our population sizes change."
   ]
  },
  {
   "cell_type": "code",
   "execution_count": 1,
   "metadata": {},
   "outputs": [
    {
     "name": "stdout",
     "output_type": "stream",
     "text": [
      "Populating the interactive namespace from numpy and matplotlib\n"
     ]
    }
   ],
   "source": [
    "# Importing python modules that we will be using\n",
    "%pylab inline\n",
    "from numpy import *\n",
    "import scipy\n",
    "from ipywidgets import interact, interactive\n",
    "import ipywidgets as widgets"
   ]
  },
  {
   "cell_type": "code",
   "execution_count": 2,
   "metadata": {},
   "outputs": [],
   "source": [
    "# Function for plotting our HZ model\n",
    "def plotIt(times, traj, loc=\"center right\"):\n",
    "    H,Z = transpose(traj)\n",
    "    figure(figsize=(13,9))\n",
    "    plot(times, H, 'g-', label=\"Humans\")\n",
    "    plot(times, Z, 'r-', label=\"Zombies\")\n",
    "    legend(loc=loc)\n",
    "    Title = \"H, Z = \"+str(H[0])+\", \"+str(Z[0])\n",
    "    title(Title)\n",
    "    xlabel('Time')\n",
    "    ylabel('Population size')"
   ]
  },
  {
   "cell_type": "code",
   "execution_count": 3,
   "metadata": {},
   "outputs": [],
   "source": [
    "def Gillespie(H0, Z0, biteFactor, killFactor):\n",
    "    \"\"\"\n",
    "    Runs HZ model using Gillespie algorithm\n",
    "    \n",
    "    Inputs:\n",
    "    H0: initial number of humans\n",
    "    Z0: initial number of zombies\n",
    "    biteFactor: factor that determines biteRate (rate at which zombies bite humans)\n",
    "    killFactor: factor that determines killRate (rate at which humans kill zombies)\n",
    "    \n",
    "    \"\"\"\n",
    "    t,H,Z = 0.,H0,Z0\n",
    "    times = [t]\n",
    "    traj = [[H0,Z0]]\n",
    "    while (t < tMax) and (H > 0) and (Z > 0):\n",
    "        biteRate = biteFactor*H*Z\n",
    "        killRate = killFactor*H*Z\n",
    "        totalRate = biteRate + killRate\n",
    "        # step forward in time by t, chosen from exponential distribution based on rates\n",
    "        t += random.exponential(1/totalRate)\n",
    "        # choosing which event will happen\n",
    "        whichEvent = random.uniform(totalRate)\n",
    "        if whichEvent < biteRate:\n",
    "            # Zombie bites human\n",
    "            H -= 1\n",
    "            Z += 1\n",
    "        else:\n",
    "            # Human kills zombie\n",
    "            Z -= 1\n",
    "        times.append(t)\n",
    "        traj.append([H,Z])\n",
    "    if t<tMax:\n",
    "        times.append(tMax)\n",
    "        traj.append([H,Z])\n",
    "    plotIt(times, traj)"
   ]
  },
  {
   "cell_type": "code",
   "execution_count": 5,
   "metadata": {},
   "outputs": [
    {
     "data": {
      "application/vnd.jupyter.widget-view+json": {
       "model_id": "3c1410b7d0544d228ee7a1c3196a7e96",
       "version_major": 2,
       "version_minor": 0
      },
      "text/plain": [
       "interactive(children=(FloatSlider(value=9900.0, description='humans:', max=20000.0, min=100.0, readout_format=…"
      ]
     },
     "metadata": {},
     "output_type": "display_data"
    }
   ],
   "source": [
    "tMax = 6.0\n",
    "interactive(Gillespie, {'manual': True},\n",
    "                     H0 = widgets.FloatSlider(\n",
    "                            min=100, \n",
    "                            max=20000, \n",
    "                            step=100, \n",
    "                            description='humans:', \n",
    "                            value=9900,\n",
    "                            readout_format='.0f'),\n",
    "                     Z0 = widgets.FloatSlider(\n",
    "                            min=1,\n",
    "                            max=10,\n",
    "                            step=1,\n",
    "                            description='zombies:',\n",
    "                            value=1,\n",
    "                            readout_format='.0f'),\n",
    "                     biteFactor = widgets.FloatSlider(\n",
    "                            min=0, \n",
    "                            max=0.01, \n",
    "                            step=0.001, \n",
    "                            description='biteFactor:', \n",
    "                            value=0.001,\n",
    "                            readout_format='.3f'),\n",
    "                     killFactor = widgets.FloatSlider(\n",
    "                            min=0,\n",
    "                            max=0.002,\n",
    "                            step=0.0001,\n",
    "                            description='killFactor:',\n",
    "                            value=0.0008,\n",
    "                            readout_format='.4f')\n",
    "           )"
   ]
  },
  {
   "cell_type": "markdown",
   "metadata": {},
   "source": [
    "## Making a hypothesis\n",
    "\n",
    "Before you run the simulation, make a hypothesis about what you expect to happen with the variables set by the sliders above. \n",
    "\n",
    "Note: Don't be fooled by the relative slider positions, `killFactor` (which affects the `killRate`) is equal to about 80\\% of `biteFactor` (which affects the `biteRate`)."
   ]
  },
  {
   "cell_type": "markdown",
   "metadata": {},
   "source": [
    "Our hypothesis: ..."
   ]
  },
  {
   "cell_type": "markdown",
   "metadata": {},
   "source": [
    "## Running the simulation\n",
    "\n",
    "Run the simulation once. What happens over time? Which population (humans or zombies) won by the end?\n",
    "\n",
    "Now run the simulation again until you get a different outcome. Which population won this time? Can you think of why it may be that for the same initial parameters, we get a different outcome?\n",
    "\n",
    "Because of the way the Gillespie algorithm works taking one action at a time, what happens at early times is going to matter a lot. You can run the same simulation with the same parameters, but there's the element of random chance that affects what action occurs (human getting bitten or zombie dying) and you can end up with different outcomes."
   ]
  },
  {
   "cell_type": "markdown",
   "metadata": {},
   "source": [
    "### Observations: \n",
    "\n",
    "Simulation result one: ...\n",
    "\n",
    "Simulation result two: ..."
   ]
  },
  {
   "cell_type": "markdown",
   "metadata": {},
   "source": [
    "## Statistics\n",
    "\n",
    "Let's do some statistics: how likely are the different outcomes?\n",
    "\n",
    "First, with using the preset values for the sliders, run the simulation above 20 times by clicking the `Run Interact` button and record who wins. If you change the slider on accident and want to reset it, just re-run the cell block. \n",
    "\n",
    "How often do the zombies win? Is it more often or less often than you expected?"
   ]
  },
  {
   "cell_type": "markdown",
   "metadata": {},
   "source": [
    "### Our results: \n",
    "\n",
    "Number of simulations where zombies won / 20: ...\n",
    "\n",
    "Number of simulations where humans won / 20: ...\n",
    "\n",
    "Analysis/observations: ..."
   ]
  },
  {
   "cell_type": "markdown",
   "metadata": {},
   "source": [
    "## Variable fun\n",
    "\n",
    "Now, let's play around with some of the variables. See if you can change the sliders one at a time to answer the following questions. To do so, you can always reset the sliders by re-running the cell. In this case, to save time, let's consider 5 of the same outcomes in a row to be a guaranteed result.\n",
    "\n",
    "### Zombie slider: \n",
    "What is the minimum number of zombies needed in order to guarantee that there are more zombies than humans at the end of the simulation? Is this a surprise to you, and if not why?\n",
    "\n",
    "### Human slider: \n",
    "What are the minimum number of humans needed in order to guarantee that the humans win at the end of the simulation?\n",
    "\n",
    "Change the number of humans to be the maximum (20000). Rerun the simulation until you find one where the zombies win. How quickly do the humans die out in comparison to the case with only 9900 humans? Why do you think this is?\n",
    "\n",
    "Why is it that adding/removing one zombie has a much bigger effect than adding or removing one human?\n",
    "\n",
    "### biteRate/killRate slider: \n",
    "(Note: you only need to change one of them and not both, because it's the relative rates that matter)\n",
    "\n",
    "What happens when killRate is greater than biteRate?\n",
    "\n",
    "What happens when killRate and biteRate are equal (try, say, setting both to 0.001)? What would you expect, and did your result match your expectations? Can you reason out why the results make sense?\n",
    "\n",
    "Change the number of zombies to be 10. Now, when killRate and biteRate are equal, what happens?"
   ]
  },
  {
   "cell_type": "markdown",
   "metadata": {},
   "source": [
    "### Our results:\n",
    "\n",
    "Zombie slider: ...\n",
    "\n",
    "Human slider: ...\n",
    "\n",
    "biteRate/killRate slider: ..."
   ]
  },
  {
   "cell_type": "markdown",
   "metadata": {},
   "source": [
    "# Including vaccination\n",
    "\n",
    "Vaccination is one way that we may be able to help the humans win against the zombies. Let's see how we can include it!"
   ]
  },
  {
   "cell_type": "code",
   "execution_count": 6,
   "metadata": {},
   "outputs": [],
   "source": [
    "# Function for plotting our HZ model\n",
    "def plotItVax(times, traj, loc=\"center right\"):\n",
    "    H,Z,V = transpose(traj)\n",
    "    figure(figsize=(13,9))\n",
    "    plot(times, H, 'g-', label=\"Humans\")\n",
    "    plot(times, V, 'k-', label=\"Vaccinated Humans\")\n",
    "    plot(times, Z, 'r-', label=\"Zombies\")\n",
    "    legend(loc=loc)\n",
    "    Title = \"H, V, Z = \"+str(H[0])+\", \"+str(V[0])+\", \"+str(Z[0])\n",
    "    title(Title)\n",
    "    xlabel('Time')\n",
    "    ylabel('Population size')"
   ]
  },
  {
   "cell_type": "markdown",
   "metadata": {},
   "source": [
    "This time, we will run our Gillespie algorithm but include an initial number of vaccinated humans. Unlike before, where we just consider two competing actions, zombie bites and human kills, we will also consider a third: zombie bites + vaccine protects.  "
   ]
  },
  {
   "cell_type": "code",
   "execution_count": 7,
   "metadata": {},
   "outputs": [],
   "source": [
    "def GillespieWithVax(H0, V0, Z0, biteFactor, killFactor, vax_protection):\n",
    "    \"\"\"\n",
    "    Runs HVZ model using Gillespie algorithm with vaccination\n",
    "    \n",
    "    Inputs:\n",
    "    H0: initial number of total humans\n",
    "    V0: number of humans that are vaccinated, must be less than or equal to H0\n",
    "    Z0: initial number of zombies\n",
    "    biteFactor: factor that determines biteRate (rate at which zombies bite humans)\n",
    "    killFactor: factor that determines killRate (rate at which humans kill zombies)\n",
    "    vax_protection: effectiveness of the vaccine (percentage of the time that it protects you)\n",
    "    \n",
    "    \"\"\"\n",
    "    t,H,Z,V = 0.,H0,Z0,V0\n",
    "    times = [t]\n",
    "    traj = [[H0,Z0,V0]]\n",
    "    while (t < tMax) and (H > 0) and (Z > 0):\n",
    "        biteRate = biteFactor*H*Z\n",
    "        killRate = killFactor*H*Z\n",
    "        totalRate = biteRate + killRate\n",
    "        # step forward in time by t, chosen from exponential distribution based on rates\n",
    "        t += random.exponential(1/totalRate)\n",
    "        # choosing which event will happen\n",
    "        whichEvent = random.uniform(totalRate)\n",
    "        if whichEvent < biteRate:\n",
    "            # Zombie bites human            \n",
    "            \n",
    "            # checking if the human who will interact with the zombie is vaxxed or not\n",
    "            isVax = random.uniform()\n",
    "            percentVax = V/H\n",
    "            if isVax < percentVax:\n",
    "            # vaxxed case\n",
    "                # calculating how well the vaccine will protect the human\n",
    "                zombie_success = random.uniform()\n",
    "                if zombie_success > vax_protection:\n",
    "                    V -= 1\n",
    "                    H -= 1\n",
    "                    Z += 1\n",
    "            else: \n",
    "            # unvaxxed case\n",
    "                H -= 1\n",
    "                Z += 1\n",
    "        else:\n",
    "            # Human kills zombie\n",
    "            Z -= 1\n",
    "        times.append(t)\n",
    "        traj.append([H,Z,V])\n",
    "    if t<tMax:\n",
    "        times.append(tMax)\n",
    "        traj.append([H,Z,V])\n",
    "    plotItVax(times, traj)"
   ]
  },
  {
   "cell_type": "code",
   "execution_count": 8,
   "metadata": {},
   "outputs": [
    {
     "data": {
      "application/vnd.jupyter.widget-view+json": {
       "model_id": "7c206cd4b26f43e5a824c6217d308974",
       "version_major": 2,
       "version_minor": 0
      },
      "text/plain": [
       "interactive(children=(FloatSlider(value=9900.0, description='humans:', max=20000.0, min=100.0, readout_format=…"
      ]
     },
     "metadata": {},
     "output_type": "display_data"
    }
   ],
   "source": [
    "tMax = 7.0\n",
    "interactive(GillespieWithVax, {'manual': True},\n",
    "                     H0 = widgets.FloatSlider(\n",
    "                            min=100, \n",
    "                            max=20000, \n",
    "                            step=100, \n",
    "                            description='humans:', \n",
    "                            value=9900,\n",
    "                            readout_format='.0f'),\n",
    "                     V0 = widgets.FloatSlider(\n",
    "                            min=0, \n",
    "                            max=20000, \n",
    "                            step=100, \n",
    "                            description='vaxxed:', \n",
    "                            value=300,\n",
    "                            readout_format='.0f'),\n",
    "                     Z0 = widgets.FloatSlider(\n",
    "                            min=1,\n",
    "                            max=10,\n",
    "                            step=1,\n",
    "                            description='zombies:',\n",
    "                            value=10,\n",
    "                            readout_format='.0f'),\n",
    "                     biteFactor = widgets.FloatSlider(\n",
    "                            min=0, \n",
    "                            max=0.01, \n",
    "                            step=0.001, \n",
    "                            description='biteFactor:', \n",
    "                            value=0.001,\n",
    "                            readout_format='.3f'),\n",
    "                     killFactor = widgets.FloatSlider(\n",
    "                            min=0,\n",
    "                            max=0.002,\n",
    "                            step=0.0001,\n",
    "                            description='killFactor:',\n",
    "                            value=0.0008,\n",
    "                            readout_format='.4f'),\n",
    "                     vax_protection = widgets.FloatSlider(\n",
    "                            min=0,\n",
    "                            max=1.0,\n",
    "                            step=0.1,\n",
    "                            description='protection:',\n",
    "                            value=0.7,\n",
    "                            readout_format='.2f')\n",
    "           )"
   ]
  },
  {
   "cell_type": "markdown",
   "metadata": {},
   "source": [
    "### Questions to consider:\n",
    "\n",
    "The default is set to a very low number of vaccinated humans and a high number of zombies. Run the simulation 5 times with the defaults: what happens? Is this what you would expect? Do the populations of the humans vs. the vaccinated humans change differently?\n",
    "\n",
    "Now, up the number of vaccinated humans `V0` to be around half of the total humans. Do your simulation results change? How so, and why?\n",
    "\n",
    "Next, increase `biteFactor` to 0.002 and keep the number of vaccinated humans at around half of total humans. Do your simulation results differ from the previous two cases? How so, and why? In this case, how many vaccinated humans would we need in order to be guaranteed for humans to beat the zombies?\n",
    "\n",
    "Although vaccination is a key tactic for minimizing zombie spread, the number of humans that we need vaccinated depends strongly on how good the zombies are at biting the humans.\n",
    "\n",
    "Last, try pushing up the `vax_protection` to 0.9, while keeping the `biteFactor` at 0.002 and the number of vaccinated humans at around half of total humans. What happens now? How is it different from the previous results?"
   ]
  },
  {
   "cell_type": "markdown",
   "metadata": {},
   "source": [
    "### Observations: \n",
    "\n",
    "Simulation with defaults: ...\n",
    "\n",
    "Simulation with half vaxxed: ...\n",
    "\n",
    "Simulation with half vaxxed and `biteFactor` = 0.002: ...\n",
    "\n",
    "Simulation with half vaxxed, `biteFactor` = 0.002, and `protection` = 0.9: ..."
   ]
  },
  {
   "cell_type": "markdown",
   "metadata": {},
   "source": [
    "### Final question: \n",
    "How else do you think we could change the simulation to better represent how a zombie apocalypse might play out more realistically? What other factors would you want to consider?"
   ]
  },
  {
   "cell_type": "markdown",
   "metadata": {},
   "source": [
    "Other factors to consider: ..."
   ]
  },
  {
   "cell_type": "markdown",
   "metadata": {},
   "source": [
    "If you're done answering all the questions, please feel free to play around with some of the other factors that we didn't explicitly tell you to vary (such as vaccine protection level, number of humans, etc) and see how it affects your simulations."
   ]
  }
 ],
 "metadata": {
  "kernelspec": {
   "display_name": "Python 3",
   "language": "python",
   "name": "python3"
  },
  "language_info": {
   "codemirror_mode": {
    "name": "ipython",
    "version": 3
   },
   "file_extension": ".py",
   "mimetype": "text/x-python",
   "name": "python",
   "nbconvert_exporter": "python",
   "pygments_lexer": "ipython3",
   "version": "3.7.4"
  }
 },
 "nbformat": 4,
 "nbformat_minor": 4
}
