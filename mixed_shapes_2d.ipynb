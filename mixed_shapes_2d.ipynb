{
 "cells": [
  {
   "cell_type": "markdown",
   "metadata": {},
   "source": [
    "### Importing modules"
   ]
  },
  {
   "cell_type": "code",
   "execution_count": 34,
   "metadata": {},
   "outputs": [],
   "source": [
    "import hoomd\n",
    "import hoomd.hpmc as hpmc\n",
    "import coxeter\n",
    "import ipywidgets as widgets\n",
    "import gsd, gsd.hoomd\n",
    "import plato.draw.vispy as draw\n",
    "import numpy as np\n",
    "import matplotlib.pyplot as pp"
   ]
  },
  {
   "cell_type": "markdown",
   "metadata": {},
   "source": [
    "### Choosing parameters for our simulation\n",
    "\n",
    "This includes choosing the two shapes we will be using, the ratio between the shapes, and the total number of shapes in the simulation box."
   ]
  },
  {
   "cell_type": "code",
   "execution_count": 24,
   "metadata": {},
   "outputs": [],
   "source": [
    "getShape = coxeter.families.RegularNGonFamily()\n",
    "\n",
    "def make3D(vertex_list):\n",
    "    to_add = np.transpose([np.zeros(len(vertex_list))])\n",
    "    vertex_list = np.concatenate([vertex_list,to_add],axis=1)\n",
    "    return vertex_list\n",
    "\n",
    "#Choose shapes by the number of vertices that shape has\n",
    "verticesA = make3D(getShape.make_vertices(3))\n",
    "verticesB = make3D(getShape.make_vertices(5))"
   ]
  },
  {
   "cell_type": "code",
   "execution_count": 25,
   "metadata": {},
   "outputs": [
    {
     "data": {
      "application/vnd.jupyter.widget-view+json": {
       "model_id": "77611d344aa64d56a9558e0e56b8edee",
       "version_major": 2,
       "version_minor": 0
      },
      "text/plain": [
       "FloatSlider(value=0.5, description='Shape ratio:', max=1.0, step=0.01)"
      ]
     },
     "metadata": {},
     "output_type": "display_data"
    }
   ],
   "source": [
    "# Choose a fraction between 0 and 1\n",
    "# which will represent the percent of shapes\n",
    "# that are Shape 1\n",
    "# shape_ratio = 0 means all the shapes will be Shape 2\n",
    "\n",
    "shape_ratio = widgets.FloatSlider(\n",
    "    min=0.00, \n",
    "    max=1.00, \n",
    "    step=0.01, \n",
    "    description='Shape ratio:', \n",
    "    value=0.50,\n",
    "    readout_format='.2f')\n",
    "\n",
    "display(shape_ratio)"
   ]
  },
  {
   "cell_type": "code",
   "execution_count": 11,
   "metadata": {},
   "outputs": [],
   "source": [
    "# Setting number of particles along one side of our simulation box\n",
    "# which is the square root of the total number of particles\n",
    "num_particles_sqrt = 20"
   ]
  },
  {
   "cell_type": "code",
   "execution_count": 12,
   "metadata": {},
   "outputs": [],
   "source": [
    "#setting colors"
   ]
  },
  {
   "cell_type": "markdown",
   "metadata": {},
   "source": [
    "### Initializing the simulation"
   ]
  },
  {
   "cell_type": "code",
   "execution_count": 13,
   "metadata": {},
   "outputs": [],
   "source": [
    "#making & visualizing the unit cell"
   ]
  },
  {
   "cell_type": "code",
   "execution_count": 47,
   "metadata": {},
   "outputs": [
    {
     "name": "stdout",
     "output_type": "stream",
     "text": [
      "notice(2): Group \"all\" created containing 400 particles\n"
     ]
    }
   ],
   "source": [
    "hoomd.context.initialize(\"--mode=cpu\");\n",
    "\n",
    "system = hoomd.init.create_lattice(unitcell=hoomd.lattice.unitcell(N=2,\n",
    "                                                                  a1=[3,0,0],\n",
    "                                                                  a2=[0,6,0],\n",
    "                                                                  a3=[0,0,1],\n",
    "                                                                  dimensions=2,\n",
    "                                                                  position=[[0,0,0],\n",
    "                                                                            [0,3,0]],\n",
    "                                                                  type_name=[\"A\",\"B\"]),\n",
    "                                n=[num_particles_sqrt,int(1/2*num_particles_sqrt)])\n",
    "\n",
    "snap = system.take_snapshot()\n",
    "\n",
    "snap.particles.types = [\"A\",\"B\"]\n",
    "\n",
    "nParticles = len(snap.particles.typeid)\n",
    "\n",
    "for p in range(int(shape_ratio.value * nParticles)):\n",
    "    snap.particles.typeid[p]=0\n",
    "for p in range(int(int(shape_ratio.value * nParticles)), nParticles ):\n",
    "    snap.particles.typeid[p]=1\n",
    "    \n",
    "system.restore_snapshot(snap)"
   ]
  },
  {
   "cell_type": "code",
   "execution_count": 48,
   "metadata": {},
   "outputs": [
    {
     "data": {
      "application/vnd.jupyter.widget-view+json": {
       "model_id": "1bda2077f23c4ebd81a3c59596213dd8",
       "version_major": 2,
       "version_minor": 0
      },
      "text/plain": [
       "VispyWidget(height=600, width=800)"
      ]
     },
     "metadata": {},
     "output_type": "display_data"
    }
   ],
   "source": [
    "#visualizing our initial frame with plato\n",
    "primA = draw.Polygons(vertices = verticesA[:,:2])\n",
    "primB = draw.Polygons(vertices = verticesB[:,:2])\n",
    "box_prim = draw.Box(color=(0, 0, 0, 1), width=.2)\n",
    "scene = draw.Scene([primA, box_prim], zoom=.5, clip_scale=5)\n",
    "scene.add_primitive(primB)\n",
    "scene.show()\n",
    "\n",
    "box = [snap.box.Lx, snap.box.Ly, snap.box.Lz, snap.box.xy, snap.box.xz, snap.box.yz]\n",
    "for (name, val) in zip(['Lx', 'Ly', 'Lz', 'xy', 'xz', 'yz'], box):\n",
    "    setattr(box_prim, name, val)  \n",
    "\n",
    "primA.positions = snap.particles.position[snap.particles.typeid == 0,:2]\n",
    "primB.positions = snap.particles.position[snap.particles.typeid == 1,:2]\n",
    "\n",
    "primA.orientations = snap.particles.orientation\n",
    "primB.orientations = snap.particles.orientation\n",
    "\n",
    "primA.diameters = np.full(len(snap.particles.position), 1)\n",
    "primB.diameters = np.full(len(snap.particles.position), 1)\n",
    "\n",
    "colorsA = np.ones((len(primA.positions), 4))\n",
    "colorsA[:, :3] = np.float32(np.divide([255, 50, 150], 255)) #pink\n",
    "primA.colors = colorsA\n",
    "\n",
    "colorsB = np.ones((len(primB.positions), 4))\n",
    "colorsB[:, :3] = np.float32(np.divide([0, 200, 100], 255)) #green\n",
    "primB.colors = colorsB\n",
    "\n",
    "scene.render()"
   ]
  },
  {
   "cell_type": "markdown",
   "metadata": {},
   "source": [
    "### Running the simulation"
   ]
  },
  {
   "cell_type": "code",
   "execution_count": 49,
   "metadata": {},
   "outputs": [],
   "source": [
    "total_steps = 1e6\n",
    "max_pressure = 20\n",
    "\n",
    "mc = hpmc.integrate.convex_polygon(seed=np.random.randint(1,1e6), d=0.5, a=0.5, move_ratio=0.5)\n",
    "mc.shape_param.set('A', vertices=verticesA)\n",
    "mc.shape_param.set('B', vertices=verticesB)\n",
    "\n",
    "boxMC = hpmc.update.boxmc(mc, hoomd.variant.linear_interp(points=[[0,1],[total_steps,max_pressure]],zero=0), \n",
    "                          np.random.randint(1,1e6))\n",
    "\n",
    "boxMC.volume(delta=1.0, weight=1.0)\n",
    "\n",
    "particle_tuner = hpmc.util.tune(obj=mc, tunables=['d','a'], target=0.2)\n",
    "box_tuner = hpmc.util.tune_npt(obj=boxMC, tunables=['dV'],  target=0.2)\n",
    "\n",
    "\n",
    "all=hoomd.group.all()"
   ]
  },
  {
   "cell_type": "code",
   "execution_count": 50,
   "metadata": {},
   "outputs": [],
   "source": [
    "#record data\n",
    "\n",
    "#for visualizations\n",
    "traj = hoomd.dump.gsd(filename='traj.gsd',period=int(total_steps/100),group=all,overwrite=True)\n",
    "traj.dump_shape(mc)\n",
    "\n",
    "#for plots\n",
    "\n",
    "logger = hoomd.analyze.log(filename='log.txt',\n",
    "    quantities=['hpmc_translate_acceptance',\n",
    "                'hpmc_rotate_acceptance',\n",
    "                'hpmc_boxmc_volume_acceptance',\n",
    "                'hpmc_d',\n",
    "                'lx',\n",
    "                'hpmc_boxmc_betaP',\n",
    "                'hpmc_overlap_count'\n",
    "                ],\n",
    "    period=int(total_steps/100),\n",
    "    overwrite=True)"
   ]
  },
  {
   "cell_type": "code",
   "execution_count": 51,
   "metadata": {},
   "outputs": [
    {
     "name": "stdout",
     "output_type": "stream",
     "text": [
      "** starting run **\n",
      "Time 00:00:12 | Step 11942 / 100000 | TPS 1194.12 | ETA 00:01:13\n",
      "Time 00:00:22 | Step 22663 / 100000 | TPS 1072.01 | ETA 00:01:12\n",
      "Time 00:00:32 | Step 32164 / 100000 | TPS 950.028 | ETA 00:01:11\n",
      "Time 00:00:42 | Step 41587 / 100000 | TPS 942.209 | ETA 00:01:01\n",
      "Time 00:00:52 | Step 51070 / 100000 | TPS 948.233 | ETA 00:00:51\n",
      "Time 00:01:02 | Step 60450 / 100000 | TPS 937.939 | ETA 00:00:42\n",
      "Time 00:01:12 | Step 69545 / 100000 | TPS 909.486 | ETA 00:00:33\n",
      "Time 00:01:22 | Step 78811 / 100000 | TPS 926.584 | ETA 00:00:22\n",
      "Time 00:01:32 | Step 88018 / 100000 | TPS 920.681 | ETA 00:00:13\n",
      "Time 00:01:42 | Step 97354 / 100000 | TPS 933.574 | ETA 00:00:02\n",
      "Time 00:01:45 | Step 100000 / 100000 | TPS 934.988 | ETA 00:00:00\n",
      "Average TPS: 972.422\n",
      "---------\n",
      "notice(2): -- HPMC stats:\n",
      "notice(2): Average translate acceptance: 0.417081\n",
      "notice(2): Average rotate acceptance:    0.684504\n",
      "notice(2): Trial moves per second:        1.55586e+06\n",
      "notice(2): Overlap checks per second:     3.09941e+07\n",
      "notice(2): Overlap checks per trial move: 19.9209\n",
      "notice(2): Number of overlap errors:      0\n",
      "notice(2): -- HPMC box change stats:\n",
      "notice(2): Average volume acceptance: 0.55785\n",
      "notice(2): Total box changes:        100000\n",
      "** run complete **\n",
      "** starting run **\n",
      "Time 00:01:55 | Step 109445 / 200000 | TPS 944.417 | ETA 00:01:35\n",
      "Time 00:02:05 | Step 118872 / 200000 | TPS 942.648 | ETA 00:01:26\n",
      "Time 00:02:15 | Step 128438 / 200000 | TPS 956.567 | ETA 00:01:14\n",
      "Time 00:02:25 | Step 138056 / 200000 | TPS 961.763 | ETA 00:01:04\n",
      "Time 00:02:35 | Step 147546 / 200000 | TPS 948.952 | ETA 00:00:55\n",
      "Time 00:02:45 | Step 157022 / 200000 | TPS 947.506 | ETA 00:00:45\n",
      "Time 00:02:55 | Step 166363 / 200000 | TPS 934.089 | ETA 00:00:36\n",
      "Time 00:03:05 | Step 175695 / 200000 | TPS 933.134 | ETA 00:00:26\n",
      "Time 00:03:15 | Step 185196 / 200000 | TPS 950.029 | ETA 00:00:15\n",
      "Time 00:03:25 | Step 194362 / 200000 | TPS 916.557 | ETA 00:00:06\n",
      "Time 00:03:31 | Step 200000 / 200000 | TPS 920.532 | ETA 00:00:00\n",
      "Average TPS: 942.23\n",
      "---------\n",
      "notice(2): -- HPMC stats:\n",
      "notice(2): Average translate acceptance: 0.110694\n",
      "notice(2): Average rotate acceptance:    0.44901\n",
      "notice(2): Trial moves per second:        1.50755e+06\n",
      "notice(2): Overlap checks per second:     2.72909e+07\n",
      "notice(2): Overlap checks per trial move: 18.1028\n",
      "notice(2): Number of overlap errors:      0\n",
      "notice(2): -- HPMC box change stats:\n",
      "notice(2): Average volume acceptance: 0.29686\n",
      "notice(2): Total box changes:        100000\n",
      "** run complete **\n",
      "** starting run **\n",
      "Time 00:03:41 | Step 209138 / 300000 | TPS 913.798 | ETA 00:01:39\n",
      "Time 00:03:51 | Step 218436 / 300000 | TPS 929.738 | ETA 00:01:27\n",
      "Time 00:04:01 | Step 227618 / 300000 | TPS 918.118 | ETA 00:01:18\n",
      "Time 00:04:11 | Step 236872 / 300000 | TPS 925.354 | ETA 00:01:08\n",
      "Time 00:04:21 | Step 246048 / 300000 | TPS 917.55 | ETA 00:00:58\n",
      "Time 00:04:31 | Step 255386 / 300000 | TPS 933.752 | ETA 00:00:47\n",
      "Time 00:04:41 | Step 264597 / 300000 | TPS 921.097 | ETA 00:00:38\n",
      "Time 00:04:51 | Step 273926 / 300000 | TPS 932.861 | ETA 00:00:27\n",
      "Time 00:05:01 | Step 283492 / 300000 | TPS 956.529 | ETA 00:00:17\n",
      "Time 00:05:11 | Step 292489 / 300000 | TPS 899.675 | ETA 00:00:08\n",
      "Time 00:05:20 | Step 300000 / 300000 | TPS 874.708 | ETA 00:00:00\n",
      "Average TPS: 920.874\n",
      "---------\n",
      "notice(2): -- HPMC stats:\n",
      "notice(2): Average translate acceptance: 0.0891809\n",
      "notice(2): Average rotate acceptance:    0.337093\n",
      "notice(2): Trial moves per second:        1.47338e+06\n",
      "notice(2): Overlap checks per second:     2.54976e+07\n",
      "notice(2): Overlap checks per trial move: 17.3055\n",
      "notice(2): Number of overlap errors:      0\n",
      "notice(2): -- HPMC box change stats:\n",
      "notice(2): Average volume acceptance: 0.19783\n",
      "notice(2): Total box changes:        100000\n",
      "** run complete **\n",
      "** starting run **\n",
      "Time 00:05:30 | Step 309057 / 400000 | TPS 905.681 | ETA 00:01:40\n",
      "Time 00:05:40 | Step 317810 / 400000 | TPS 875.221 | ETA 00:01:33\n",
      "Time 00:05:50 | Step 326652 / 400000 | TPS 884.197 | ETA 00:01:22\n",
      "Time 00:06:00 | Step 335996 / 400000 | TPS 934.309 | ETA 00:01:08\n",
      "Time 00:06:10 | Step 345391 / 400000 | TPS 939.424 | ETA 00:00:58\n",
      "Time 00:06:20 | Step 354718 / 400000 | TPS 932.603 | ETA 00:00:48\n",
      "Time 00:06:30 | Step 364078 / 400000 | TPS 935.904 | ETA 00:00:38\n",
      "Time 00:06:40 | Step 373594 / 400000 | TPS 951.597 | ETA 00:00:27\n",
      "Time 00:06:50 | Step 382871 / 400000 | TPS 927.618 | ETA 00:00:18\n",
      "Time 00:07:00 | Step 392156 / 400000 | TPS 928.425 | ETA 00:00:08\n",
      "Time 00:07:08 | Step 400000 / 400000 | TPS 928.792 | ETA 00:00:00\n",
      "Average TPS: 922.059\n",
      "---------\n",
      "notice(2): -- HPMC stats:\n",
      "notice(2): Average translate acceptance: 0.104363\n",
      "notice(2): Average rotate acceptance:    0.264807\n",
      "notice(2): Trial moves per second:        1.47527e+06\n",
      "notice(2): Overlap checks per second:     2.52433e+07\n",
      "notice(2): Overlap checks per trial move: 17.111\n",
      "notice(2): Number of overlap errors:      0\n",
      "notice(2): -- HPMC box change stats:\n",
      "notice(2): Average volume acceptance: 0.14643\n",
      "notice(2): Total box changes:        100000\n",
      "** run complete **\n",
      "** starting run **\n",
      "Time 00:07:18 | Step 408897 / 500000 | TPS 889.623 | ETA 00:01:42\n",
      "Time 00:07:28 | Step 418034 / 500000 | TPS 913.632 | ETA 00:01:29\n",
      "Time 00:07:38 | Step 427306 / 500000 | TPS 927.145 | ETA 00:01:18\n",
      "Time 00:07:48 | Step 436635 / 500000 | TPS 932.899 | ETA 00:01:07\n",
      "Time 00:07:58 | Step 445888 / 500000 | TPS 925.254 | ETA 00:00:58\n",
      "Time 00:08:08 | Step 454974 / 500000 | TPS 908.502 | ETA 00:00:49\n",
      "Time 00:08:18 | Step 464079 / 500000 | TPS 910.493 | ETA 00:00:39\n",
      "Time 00:08:28 | Step 472920 / 500000 | TPS 884.036 | ETA 00:00:30\n",
      "Time 00:08:38 | Step 481842 / 500000 | TPS 892.153 | ETA 00:00:20\n",
      "Time 00:08:48 | Step 491103 / 500000 | TPS 926.001 | ETA 00:00:09\n",
      "Time 00:08:58 | Step 500000 / 500000 | TPS 942.874 | ETA 00:00:00\n",
      "Average TPS: 913.711\n",
      "---------\n",
      "notice(2): -- HPMC stats:\n",
      "notice(2): Average translate acceptance: 0.116392\n",
      "notice(2): Average rotate acceptance:    0.214712\n",
      "notice(2): Trial moves per second:        1.46192e+06\n",
      "notice(2): Overlap checks per second:     2.49259e+07\n",
      "notice(2): Overlap checks per trial move: 17.0501\n",
      "notice(2): Number of overlap errors:      0\n",
      "notice(2): -- HPMC box change stats:\n",
      "notice(2): Average volume acceptance: 0.12975\n",
      "notice(2): Total box changes:        100000\n",
      "** run complete **\n",
      "** starting run **\n",
      "Time 00:09:08 | Step 509111 / 600000 | TPS 911.022 | ETA 00:01:39\n",
      "Time 00:09:18 | Step 518250 / 600000 | TPS 913.878 | ETA 00:01:29\n",
      "Time 00:09:28 | Step 527129 / 600000 | TPS 887.883 | ETA 00:01:22\n",
      "Time 00:09:38 | Step 536146 / 600000 | TPS 901.637 | ETA 00:01:10\n",
      "Time 00:09:48 | Step 545364 / 600000 | TPS 921.697 | ETA 00:00:59\n",
      "Time 00:09:58 | Step 554540 / 600000 | TPS 917.581 | ETA 00:00:49\n",
      "Time 00:10:08 | Step 563848 / 600000 | TPS 930.784 | ETA 00:00:38\n",
      "Time 00:10:18 | Step 573009 / 600000 | TPS 916.081 | ETA 00:00:29\n",
      "Time 00:10:28 | Step 582283 / 600000 | TPS 927.371 | ETA 00:00:19\n",
      "Time 00:10:38 | Step 591587 / 600000 | TPS 930.385 | ETA 00:00:09\n",
      "Time 00:10:47 | Step 600000 / 600000 | TPS 919.004 | ETA 00:00:00\n",
      "Average TPS: 916.092\n",
      "---------\n",
      "notice(2): -- HPMC stats:\n",
      "notice(2): Average translate acceptance: 0.124252\n",
      "notice(2): Average rotate acceptance:    0.176712\n",
      "notice(2): Trial moves per second:        1.46573e+06\n",
      "notice(2): Overlap checks per second:     2.47799e+07\n",
      "notice(2): Overlap checks per trial move: 16.9061\n",
      "notice(2): Number of overlap errors:      0\n",
      "notice(2): -- HPMC box change stats:\n",
      "notice(2): Average volume acceptance: 0.1246\n",
      "notice(2): Total box changes:        100000\n",
      "** run complete **\n",
      "** starting run **\n",
      "Time 00:10:57 | Step 608943 / 700000 | TPS 894.266 | ETA 00:01:41\n",
      "Time 00:11:07 | Step 617550 / 700000 | TPS 860.585 | ETA 00:01:35\n",
      "Time 00:11:17 | Step 626465 / 700000 | TPS 891.422 | ETA 00:01:22\n",
      "Time 00:11:27 | Step 635288 / 700000 | TPS 882.298 | ETA 00:01:13\n",
      "Time 00:11:37 | Step 644174 / 700000 | TPS 888.574 | ETA 00:01:02\n",
      "Time 00:11:47 | Step 652965 / 700000 | TPS 879.044 | ETA 00:00:53\n",
      "Time 00:11:57 | Step 661778 / 700000 | TPS 881.245 | ETA 00:00:43\n",
      "Time 00:12:07 | Step 670824 / 700000 | TPS 904.542 | ETA 00:00:32\n",
      "Time 00:12:17 | Step 679588 / 700000 | TPS 876.3 | ETA 00:00:23\n",
      "Time 00:12:27 | Step 688321 / 700000 | TPS 873.23 | ETA 00:00:13\n",
      "Time 00:12:37 | Step 697212 / 700000 | TPS 889.086 | ETA 00:00:03\n"
     ]
    },
    {
     "name": "stdout",
     "output_type": "stream",
     "text": [
      "Time 00:12:40 | Step 700000 / 700000 | TPS 918.821 | ETA 00:00:00\n",
      "Average TPS: 884.625\n",
      "---------\n",
      "notice(2): -- HPMC stats:\n",
      "notice(2): Average translate acceptance: 0.134499\n",
      "notice(2): Average rotate acceptance:    0.157977\n",
      "notice(2): Trial moves per second:        1.41539e+06\n",
      "notice(2): Overlap checks per second:     2.39927e+07\n",
      "notice(2): Overlap checks per trial move: 16.9514\n",
      "notice(2): Number of overlap errors:      0\n",
      "notice(2): -- HPMC box change stats:\n",
      "notice(2): Average volume acceptance: 0.12672\n",
      "notice(2): Total box changes:        100000\n",
      "** run complete **\n",
      "** starting run **\n",
      "Time 00:12:50 | Step 708960 / 800000 | TPS 895.988 | ETA 00:01:41\n",
      "Time 00:13:00 | Step 717839 / 800000 | TPS 887.84 | ETA 00:01:32\n",
      "Time 00:13:10 | Step 726751 / 800000 | TPS 891.195 | ETA 00:01:22\n",
      "Time 00:13:20 | Step 735713 / 800000 | TPS 896.109 | ETA 00:01:11\n",
      "Time 00:13:30 | Step 744683 / 800000 | TPS 896.898 | ETA 00:01:01\n",
      "Time 00:13:40 | Step 753495 / 800000 | TPS 881.15 | ETA 00:00:52\n",
      "Time 00:13:50 | Step 762168 / 800000 | TPS 867.247 | ETA 00:00:43\n",
      "Time 00:14:00 | Step 770631 / 800000 | TPS 846.281 | ETA 00:00:34\n",
      "Time 00:14:10 | Step 779506 / 800000 | TPS 887.459 | ETA 00:00:23\n",
      "Time 00:14:20 | Step 788538 / 800000 | TPS 903.171 | ETA 00:00:12\n",
      "Time 00:14:30 | Step 797566 / 800000 | TPS 902.739 | ETA 00:00:02\n",
      "Time 00:14:33 | Step 800000 / 800000 | TPS 880.181 | ETA 00:00:00\n",
      "Average TPS: 886.743\n",
      "---------\n",
      "notice(2): -- HPMC stats:\n",
      "notice(2): Average translate acceptance: 0.146801\n",
      "notice(2): Average rotate acceptance:    0.153501\n",
      "notice(2): Trial moves per second:        1.41878e+06\n",
      "notice(2): Overlap checks per second:     2.44649e+07\n",
      "notice(2): Overlap checks per trial move: 17.2437\n",
      "notice(2): Number of overlap errors:      0\n",
      "notice(2): -- HPMC box change stats:\n",
      "notice(2): Average volume acceptance: 0.13477\n",
      "notice(2): Total box changes:        100000\n",
      "** run complete **\n",
      "** starting run **\n",
      "Time 00:14:43 | Step 808812 / 900000 | TPS 881.198 | ETA 00:01:43\n",
      "Time 00:14:53 | Step 817711 / 900000 | TPS 889.804 | ETA 00:01:32\n",
      "Time 00:15:03 | Step 826666 / 900000 | TPS 895.419 | ETA 00:01:21\n",
      "Time 00:15:13 | Step 835637 / 900000 | TPS 897.066 | ETA 00:01:11\n",
      "Time 00:15:23 | Step 844571 / 900000 | TPS 893.373 | ETA 00:01:02\n",
      "Time 00:15:33 | Step 853542 / 900000 | TPS 896.997 | ETA 00:00:51\n",
      "Time 00:15:43 | Step 862483 / 900000 | TPS 894.068 | ETA 00:00:41\n",
      "Time 00:15:53 | Step 871395 / 900000 | TPS 891.126 | ETA 00:00:32\n",
      "Time 00:16:03 | Step 880228 / 900000 | TPS 883.226 | ETA 00:00:22\n",
      "Time 00:16:13 | Step 889101 / 900000 | TPS 887.287 | ETA 00:00:12\n",
      "Time 00:16:23 | Step 897479 / 900000 | TPS 837.741 | ETA 00:00:03\n",
      "Time 00:16:26 | Step 900000 / 900000 | TPS 892.686 | ETA 00:00:00\n",
      "Average TPS: 886.273\n",
      "---------\n",
      "notice(2): -- HPMC stats:\n",
      "notice(2): Average translate acceptance: 0.145925\n",
      "notice(2): Average rotate acceptance:    0.145822\n",
      "notice(2): Trial moves per second:        1.41802e+06\n",
      "notice(2): Overlap checks per second:     2.44299e+07\n",
      "notice(2): Overlap checks per trial move: 17.2281\n",
      "notice(2): Number of overlap errors:      0\n",
      "notice(2): -- HPMC box change stats:\n",
      "notice(2): Average volume acceptance: 0.13643\n",
      "notice(2): Total box changes:        100000\n",
      "** run complete **\n",
      "** starting run **\n",
      "Time 00:16:36 | Step 908652 / 1000000 | TPS 865.171 | ETA 00:01:45\n",
      "Time 00:16:46 | Step 917350 / 1000000 | TPS 869.788 | ETA 00:01:35\n",
      "Time 00:16:56 | Step 926123 / 1000000 | TPS 877.263 | ETA 00:01:24\n",
      "Time 00:17:06 | Step 934878 / 1000000 | TPS 875.433 | ETA 00:01:14\n",
      "Time 00:17:16 | Step 943694 / 1000000 | TPS 881.57 | ETA 00:01:03\n",
      "Time 00:17:26 | Step 952431 / 1000000 | TPS 873.632 | ETA 00:00:54\n",
      "Time 00:17:36 | Step 961303 / 1000000 | TPS 887.115 | ETA 00:00:43\n",
      "Time 00:17:46 | Step 970151 / 1000000 | TPS 884.705 | ETA 00:00:33\n",
      "Time 00:17:56 | Step 978945 / 1000000 | TPS 879.333 | ETA 00:00:23\n",
      "Time 00:18:06 | Step 987771 / 1000000 | TPS 882.582 | ETA 00:00:13\n",
      "Time 00:18:16 | Step 996528 / 1000000 | TPS 875.665 | ETA 00:00:03\n",
      "Time 00:18:19 | Step 1000000 / 1000000 | TPS 884.795 | ETA 00:00:00\n",
      "Average TPS: 877.722\n",
      "---------\n",
      "notice(2): -- HPMC stats:\n",
      "notice(2): Average translate acceptance: 0.150004\n",
      "notice(2): Average rotate acceptance:    0.145924\n",
      "notice(2): Trial moves per second:        1.40434e+06\n",
      "notice(2): Overlap checks per second:     2.45511e+07\n",
      "notice(2): Overlap checks per trial move: 17.4823\n",
      "notice(2): Number of overlap errors:      0\n",
      "notice(2): -- HPMC box change stats:\n",
      "notice(2): Average volume acceptance: 0.13975\n",
      "notice(2): Total box changes:        100000\n",
      "** run complete **\n"
     ]
    }
   ],
   "source": [
    "number_loops = 10\n",
    "loop_steps = int(total_steps/number_loops)\n",
    "\n",
    "for i in range(number_loops):\n",
    "    hoomd.run(loop_steps)\n",
    "    particle_tuner.update()\n",
    "    box_tuner.update()"
   ]
  },
  {
   "cell_type": "code",
   "execution_count": null,
   "metadata": {},
   "outputs": [],
   "source": [
    "#graph volume over time -- Rachael\n",
    "#graph packing fraction over time -- Rachael"
   ]
  },
  {
   "cell_type": "markdown",
   "metadata": {},
   "source": [
    "### Visualizing your simulation"
   ]
  },
  {
   "cell_type": "code",
   "execution_count": 52,
   "metadata": {},
   "outputs": [],
   "source": [
    "def getFrameCount(fname):\n",
    "    #inputs: fname, the filename (ex: 'dump.gsd')\n",
    "    #outputs: len(traj), number of frames in simulation\n",
    "    with gsd.hoomd.open(fname, 'rb') as traj:\n",
    "        return len(traj)"
   ]
  },
  {
   "cell_type": "code",
   "execution_count": 53,
   "metadata": {},
   "outputs": [
    {
     "data": {
      "application/vnd.jupyter.widget-view+json": {
       "model_id": "55133c19f7fe4361be86bf7f5cedfb0e",
       "version_major": 2,
       "version_minor": 0
      },
      "text/plain": [
       "VispyWidget(height=600, width=800)"
      ]
     },
     "metadata": {},
     "output_type": "display_data"
    },
    {
     "data": {
      "application/vnd.jupyter.widget-view+json": {
       "model_id": "d02414cddbdb4c15acf8d559f416d65c",
       "version_major": 2,
       "version_minor": 0
      },
      "text/plain": [
       "interactive(children=(IntSlider(value=0, description='frame_index', max=99), Output()), _dom_classes=('widget-…"
      ]
     },
     "metadata": {},
     "output_type": "display_data"
    }
   ],
   "source": [
    "primA = draw.Polygons(vertices = verticesA[:,:2])\n",
    "primB = draw.Polygons(vertices = verticesB[:,:2])\n",
    "box_prim = draw.Box(color=(0, 0, 0, 1), width=.2)\n",
    "scene = draw.Scene([primA, box_prim], zoom=.5, clip_scale=5)\n",
    "scene.add_primitive(primB)\n",
    "scene.show()\n",
    "\n",
    "filename = 'traj.gsd'\n",
    "frame_num = getFrameCount(filename)\n",
    "\n",
    "@widgets.interact(frame_index=(0, frame_num-1, 1))\n",
    "def plot(frame_index=0):\n",
    "    with gsd.hoomd.open(filename, 'rb') as traj:\n",
    "        frame = traj[frame_index]\n",
    "        box = frame.configuration.box\n",
    "        for (name, val) in zip(['Lx', 'Ly', 'Lz', 'xy', 'xz', 'yz'], box):\n",
    "            setattr(box_prim, name, val)  \n",
    "            \n",
    "        primA.positions = frame.particles.position[frame.particles.typeid == 0,:2]\n",
    "        primB.positions = frame.particles.position[frame.particles.typeid == 1,:2]\n",
    "        \n",
    "        primA.orientations = frame.particles.orientation\n",
    "        primB.orientations = frame.particles.orientation\n",
    "        \n",
    "        primA.diameters = np.full(len(frame.particles.position), 1)\n",
    "        primB.diameters = np.full(len(frame.particles.position), 1)\n",
    "        \n",
    "        colorsA = np.ones((len(primA.positions), 4))\n",
    "        colorsA[:, :3] = np.float32(np.divide([255, 50, 150], 255)) #pink\n",
    "        primA.colors = colorsA\n",
    "        \n",
    "        colorsB = np.ones((len(primB.positions), 4))\n",
    "        colorsB[:, :3] = np.float32(np.divide([0, 200, 100], 255)) #green\n",
    "        primB.colors = colorsB\n",
    "    scene.render()"
   ]
  },
  {
   "cell_type": "code",
   "execution_count": 54,
   "metadata": {},
   "outputs": [],
   "source": [
    "#Plotting values\n",
    "\n",
    "data = np.loadtxt('log.txt',skiprows=1)"
   ]
  },
  {
   "cell_type": "code",
   "execution_count": 55,
   "metadata": {},
   "outputs": [
    {
     "data": {
      "image/png": "[encoded data removed]",
      "text/plain": [
       "<Figure size 432x288 with 1 Axes>"
      ]
     },
     "metadata": {
      "needs_background": "light"
     },
     "output_type": "display_data"
    }
   ],
   "source": [
    "#Volume changes with time\n",
    "\n",
    "time = data[:,0]\n",
    "lx = data[:,5]\n",
    "volume = lx ** 3\n",
    "\n",
    "pp.scatter(time, volume);\n",
    "pp.title('Volume change over timesteps');\n",
    "pp.xlabel('Steps');\n",
    "pp.ylabel('Volume');"
   ]
  },
  {
   "cell_type": "code",
   "execution_count": 56,
   "metadata": {},
   "outputs": [
    {
     "data": {
      "image/png": "[encoded data removed]",
      "text/plain": [
       "<Figure size 432x288 with 1 Axes>"
      ]
     },
     "metadata": {
      "needs_background": "light"
     },
     "output_type": "display_data"
    }
   ],
   "source": [
    "#Volume changes with pressure\n",
    "\n",
    "pressure = data[:,6]\n",
    "lx = data[:,5]\n",
    "volume = lx ** 2\n",
    "\n",
    "pp.scatter(pressure, volume);\n",
    "pp.title('Volume change over pressure');\n",
    "pp.xlabel('Pressure');\n",
    "pp.ylabel('Volume');"
   ]
  },
  {
   "cell_type": "code",
   "execution_count": 58,
   "metadata": {},
   "outputs": [
    {
     "data": {
      "text/plain": [
       "(400.0, 1000.0)"
      ]
     },
     "execution_count": 58,
     "metadata": {},
     "output_type": "execute_result"
    },
    {
     "data": {
      "image/png": "[encoded data removed]",
      "text/plain": [
       "<Figure size 432x288 with 1 Axes>"
      ]
     },
     "metadata": {
      "needs_background": "light"
     },
     "output_type": "display_data"
    }
   ],
   "source": [
    "#Zoom in on the part below the initial compression\n",
    "\n",
    "pp.scatter(pressure, volume);\n",
    "pp.title('Volume change over pressure');\n",
    "pp.xlabel('Pressure');\n",
    "pp.ylabel('Volume');\n",
    "\n",
    "pp.ylim(400,1000)"
   ]
  },
  {
   "cell_type": "code",
   "execution_count": null,
   "metadata": {},
   "outputs": [],
   "source": []
  }
 ],
 "metadata": {
  "kernelspec": {
   "display_name": "Python 3",
   "language": "python",
   "name": "python3"
  },
  "language_info": {
   "codemirror_mode": {
    "name": "ipython",
    "version": 3
   },
   "file_extension": ".py",
   "mimetype": "text/x-python",
   "name": "python",
   "nbconvert_exporter": "python",
   "pygments_lexer": "ipython3",
   "version": "3.8.5"
  }
 },
 "nbformat": 4,
 "nbformat_minor": 2
}
