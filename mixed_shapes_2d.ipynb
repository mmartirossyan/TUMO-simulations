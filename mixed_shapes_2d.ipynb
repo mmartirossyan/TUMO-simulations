{
 "cells": [
  {
   "cell_type": "code",
   "execution_count": 1,
   "metadata": {},
   "outputs": [
    {
     "name": "stdout",
     "output_type": "stream",
     "text": [
      "Populating the interactive namespace from numpy and matplotlib\n"
     ]
    },
    {
     "name": "stderr",
     "output_type": "stream",
     "text": [
      "/Users/rachaelskye/opt/anaconda3/lib/python3.8/site-packages/IPython/core/magics/pylab.py:159: UserWarning: pylab import has clobbered these variables: ['draw', 'interactive']\n",
      "`%matplotlib` prevents importing * from pylab and numpy\n",
      "  warn(\"pylab import has clobbered these variables: %s\"  % clobbered +\n"
     ]
    }
   ],
   "source": [
    "import hoomd\n",
    "import hoomd.hpmc as hpmc\n",
    "import coxeter\n",
    "from ipywidgets import interact, interactive\n",
    "import ipywidgets as widgets\n",
    "import plato, plato.draw.vispy as draw\n",
    "import gsd, gsd.hoomd\n",
    "%pylab inline"
   ]
  },
  {
   "cell_type": "code",
   "execution_count": 2,
   "metadata": {},
   "outputs": [],
   "source": [
    "getShape = coxeter.families.RegularNGonFamily()\n",
    "\n",
    "def make3D(vertex_list):\n",
    "    to_add = np.transpose([np.zeros(len(vertex_list))])\n",
    "    vertex_list = np.concatenate([vertex_list,to_add],axis=1)\n",
    "    return vertex_list\n",
    "\n",
    "verticesA = make3D(getShape.make_vertices(3))\n",
    "verticesB = make3D(getShape.make_vertices(3))\n"
   ]
  },
  {
   "cell_type": "code",
   "execution_count": 3,
   "metadata": {},
   "outputs": [
    {
     "data": {
      "text/plain": [
       "array([[ 0.87738268,  0.        ,  0.        ],\n",
       "       [-0.43869134,  0.75983569,  0.        ],\n",
       "       [-0.43869134, -0.75983569,  0.        ]])"
      ]
     },
     "execution_count": 3,
     "metadata": {},
     "output_type": "execute_result"
    }
   ],
   "source": [
    "verticesA"
   ]
  },
  {
   "cell_type": "code",
   "execution_count": 4,
   "metadata": {},
   "outputs": [],
   "source": [
    "# We can use text input\n",
    "shape_1 = 'square'"
   ]
  },
  {
   "cell_type": "code",
   "execution_count": 5,
   "metadata": {},
   "outputs": [
    {
     "data": {
      "application/vnd.jupyter.widget-view+json": {
       "model_id": "fece260064134cd1a3b4a13b18b6df28",
       "version_major": 2,
       "version_minor": 0
      },
      "text/plain": [
       "Text(value='', description='2nd shape:', placeholder='Type something')"
      ]
     },
     "metadata": {},
     "output_type": "display_data"
    }
   ],
   "source": [
    "# We can also use more interactive input methods\n",
    "shape_2 = widgets.Text(\n",
    "    value='',\n",
    "    placeholder='Type something',\n",
    "    description='2nd shape:',\n",
    "    disabled=False\n",
    ")\n",
    "\n",
    "display(shape_2)"
   ]
  },
  {
   "cell_type": "code",
   "execution_count": 6,
   "metadata": {},
   "outputs": [
    {
     "name": "stdout",
     "output_type": "stream",
     "text": [
      "\n"
     ]
    }
   ],
   "source": [
    "print(shape_2.value) #this is how you access the string for the second shape chosen"
   ]
  },
  {
   "cell_type": "code",
   "execution_count": 7,
   "metadata": {},
   "outputs": [
    {
     "data": {
      "application/vnd.jupyter.widget-view+json": {
       "model_id": "283c668fe39e485bb766b7dbbe2abe2d",
       "version_major": 2,
       "version_minor": 0
      },
      "text/plain": [
       "FloatSlider(value=0.5, description='Shape ratio:', max=1.0, step=0.01)"
      ]
     },
     "metadata": {},
     "output_type": "display_data"
    }
   ],
   "source": [
    "# Choose a fraction between 0 and 1\n",
    "# which will represent the percent of shapes\n",
    "# that are Shape 1\n",
    "# shape_ratio = 0 means all the shapes will be Shape 2\n",
    "\n",
    "shape_ratio = widgets.FloatSlider(\n",
    "    min=0.00, \n",
    "    max=1.00, \n",
    "    step=0.01, \n",
    "    description='Shape ratio:', \n",
    "    value=0.50,\n",
    "    readout_format='.2f')\n",
    "\n",
    "display(shape_ratio)"
   ]
  },
  {
   "cell_type": "code",
   "execution_count": 8,
   "metadata": {},
   "outputs": [
    {
     "name": "stdout",
     "output_type": "stream",
     "text": [
      "0.5\n"
     ]
    }
   ],
   "source": [
    "print(shape_ratio.value)"
   ]
  },
  {
   "cell_type": "code",
   "execution_count": 9,
   "metadata": {},
   "outputs": [],
   "source": [
    "numParticles_sqrt = 10 # example: if numParticles_sqrt = 10, then there are 100 particles in the system"
   ]
  },
  {
   "cell_type": "code",
   "execution_count": 14,
   "metadata": {},
   "outputs": [
    {
     "name": "stdout",
     "output_type": "stream",
     "text": [
      "notice(2): Group \"all\" created containing 100 particles\n"
     ]
    }
   ],
   "source": [
    "hoomd.context.initialize(\"--mode=cpu\");\n",
    "\n",
    "system = hoomd.init.create_lattice(unitcell=hoomd.lattice.unitcell(N=2,\n",
    "                                                                  a1=[3,0,0],\n",
    "                                                                  a2=[0,6,0],\n",
    "                                                                  a3=[0,0,1],\n",
    "                                                                  dimensions=2,\n",
    "                                                                  position=[[0,0,0],\n",
    "                                                                            [0,3,0]],\n",
    "                                                                  type_name=[\"A\",\"B\"]),\n",
    "            n=[numParticles_sqrt,int(1/2*numParticles_sqrt)]);\n",
    "\n",
    "snap = system.take_snapshot()\n",
    "\n",
    "snap.particles.types = [\"A\",\"B\"]\n",
    "\n",
    "for p in range(int(shape_ratio.value*(numParticles_sqrt**2))):\n",
    "    snap.particles.typeid[p]=0\n",
    "for p in range(int(shape_ratio.value*(numParticles_sqrt**2)),numParticles_sqrt**2):\n",
    "    snap.particles.typeid[p]=1\n",
    "    \n",
    "system.restore_snapshot(snap)"
   ]
  },
  {
   "cell_type": "code",
   "execution_count": 15,
   "metadata": {},
   "outputs": [],
   "source": [
    "#actual simulation setup goes here\n",
    "mc = hpmc.integrate.convex_polygon(seed=np.random.randint(1,1e6), d=0.5, a=0.5,move_ratio=0.5)\n",
    "mc.shape_param.set('A', vertices=verticesA)\n",
    "mc.shape_param.set('B', vertices=verticesB)\n",
    "\n",
    "boxMC = hpmc.update.boxmc(mc, hoomd.variant.linear_interp(points=[[0,1],[1e5,20]],zero=0), \n",
    "                          np.random.randint(1,1e6))\n",
    "\n",
    "boxMC.volume(delta=1.0, weight=1.0)\n",
    "\n",
    "particle_tuner = hpmc.util.tune(obj=mc, tunables=['d','a'], target=0.2)\n",
    "box_tuner = hpmc.util.tune_npt(obj=boxMC, tunables=['dV'],  target=0.2)\n",
    "\n",
    "\n",
    "all=hoomd.group.all()"
   ]
  },
  {
   "cell_type": "code",
   "execution_count": null,
   "metadata": {},
   "outputs": [],
   "source": []
  },
  {
   "cell_type": "code",
   "execution_count": 59,
   "metadata": {},
   "outputs": [],
   "source": [
    "traj = hoomd.dump.gsd(filename='traj.gsd',period=int(100),group=all,overwrite=True)\n",
    "traj.dump_shape(mc)"
   ]
  },
  {
   "cell_type": "code",
   "execution_count": 60,
   "metadata": {},
   "outputs": [
    {
     "name": "stdout",
     "output_type": "stream",
     "text": [
      "** starting run **\n"
     ]
    },
    {
     "name": "stderr",
     "output_type": "stream",
     "text": [
      "*Warning*: Box size is too small or move size is too large for the minimum image convention.\n",
      "Testing 11 images per trial move, performance may slow.\n",
      "This message will not be repeated.\n"
     ]
    },
    {
     "name": "stdout",
     "output_type": "stream",
     "text": [
      "Time 00:00:10 | Step 17588 / 100000 | TPS 1758.79 | ETA 00:00:46\n",
      "Time 00:00:20 | Step 34335 / 100000 | TPS 1674.68 | ETA 00:00:39\n",
      "Time 00:00:30 | Step 42449 / 100000 | TPS 811.327 | ETA 00:01:10\n",
      "Time 00:00:40 | Step 53868 / 100000 | TPS 1141.86 | ETA 00:00:40\n",
      "Time 00:00:50 | Step 72146 / 100000 | TPS 1827.7 | ETA 00:00:15\n",
      "Time 00:01:00 | Step 90317 / 100000 | TPS 1817.07 | ETA 00:00:05\n",
      "Time 00:01:06 | Step 100000 / 100000 | TPS 1737.31 | ETA 00:00:00\n",
      "Average TPS: 1524.94\n",
      "---------\n",
      "notice(2): -- HPMC stats:\n",
      "notice(2): Average translate acceptance: 0.122146\n",
      "notice(2): Average rotate acceptance:    0.252914\n",
      "notice(2): Trial moves per second:        1.21993e+06\n",
      "notice(2): Overlap checks per second:     1.88424e+07\n",
      "notice(2): Overlap checks per trial move: 15.4454\n",
      "notice(2): Number of overlap errors:      0\n",
      "notice(2): -- HPMC box change stats:\n",
      "notice(2): Average volume acceptance: 0.18857\n",
      "notice(2): Total box changes:        100000\n",
      "** run complete **\n"
     ]
    }
   ],
   "source": [
    "hoomd.run(1e5)"
   ]
  },
  {
   "cell_type": "code",
   "execution_count": 61,
   "metadata": {},
   "outputs": [],
   "source": [
    "#graph volume over time -- Rachael\n",
    "#graph packing fraction over time -- Rachael"
   ]
  },
  {
   "cell_type": "markdown",
   "metadata": {},
   "source": [
    "### Plato visualizations"
   ]
  },
  {
   "cell_type": "code",
   "execution_count": null,
   "metadata": {},
   "outputs": [],
   "source": [
    "def getFrameCount(fname):\n",
    "    #inputs: fname, the filename (ex: 'dump.gsd')\n",
    "    #outputs: len(traj), number of frames in simulation\n",
    "    with gsd.hoomd.open(fname, 'rb') as traj:\n",
    "        return len(traj)"
   ]
  },
  {
   "cell_type": "code",
   "execution_count": null,
   "metadata": {},
   "outputs": [],
   "source": [
    "prim = draw.Polygons() #how to get it to consider different polygons?\n",
    "box_prim = draw.Box(color=(0, 0, 0, 1), width=.2)\n",
    "scene = draw.Scene([prim, box_prim], zoom=.5, clip_scale=5)\n",
    "scene.show()\n",
    "\n",
    "filename = 'dump.gsd'\n",
    "frame_num = getFrameCount(filename)\n",
    "\n",
    "@ipywidgets.interact(frame_index=range(frame_num))\n",
    "def plot(frame_index=0):\n",
    "    with gsd.hoomd.open(filename, 'rb') as traj:\n",
    "        frame = traj[frame_index]\n",
    "        box = frame.configuration.box\n",
    "        for (name, val) in zip(['Lx', 'Ly', 'Lz', 'xy', 'xz', 'yz'], box):\n",
    "            setattr(box_prim, name, val)\n",
    "        prim.positions = frame.particles.position\n",
    "        prim.diameters = np.full(len(frame.particles.position), 1)\n",
    "    scene.render()"
   ]
  }
 ],
 "metadata": {
  "kernelspec": {
   "display_name": "Python 3",
   "language": "python",
   "name": "python3"
  },
  "language_info": {
   "codemirror_mode": {
    "name": "ipython",
    "version": 3
   },
   "file_extension": ".py",
   "mimetype": "text/x-python",
   "name": "python",
   "nbconvert_exporter": "python",
   "pygments_lexer": "ipython3",
   "version": "3.8.5"
  }
 },
 "nbformat": 4,
 "nbformat_minor": 2
}
