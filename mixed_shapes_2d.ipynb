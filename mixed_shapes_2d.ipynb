{
 "cells": [
  {
   "cell_type": "markdown",
   "metadata": {},
   "source": [
    "### Importing modules"
   ]
  },
  {
   "cell_type": "code",
   "execution_count": 43,
   "metadata": {},
   "outputs": [],
   "source": [
    "import hoomd\n",
    "import hoomd.hpmc as hpmc\n",
    "import coxeter\n",
    "import ipywidgets as widgets\n",
    "import gsd, gsd.hoomd\n",
    "import plato.draw.vispy as draw\n",
    "import numpy as np\n",
    "import matplotlib.pyplot as pp"
   ]
  },
  {
   "cell_type": "markdown",
   "metadata": {},
   "source": [
    "### Choosing parameters for our simulation\n",
    "\n",
    "This includes choosing the two shapes we will be using, the ratio between the shapes, and the total number of shapes in the simulation box."
   ]
  },
  {
   "cell_type": "code",
   "execution_count": 44,
   "metadata": {},
   "outputs": [],
   "source": [
    "getShape = coxeter.families.RegularNGonFamily()\n",
    "\n",
    "def make3D(vertex_list):\n",
    "    to_add = np.transpose([np.zeros(len(vertex_list))])\n",
    "    vertex_list = np.concatenate([vertex_list,to_add],axis=1)\n",
    "    return vertex_list\n",
    "\n",
    "#Choose shapes by the number of vertices that shape has\n",
    "verticesA = make3D(getShape.make_vertices(3))\n",
    "verticesB = make3D(getShape.make_vertices(8))"
   ]
  },
  {
   "cell_type": "code",
   "execution_count": 45,
   "metadata": {},
   "outputs": [
    {
     "data": {
      "application/vnd.jupyter.widget-view+json": {
       "model_id": "8938105afe194c31b6cca751785d2032",
       "version_major": 2,
       "version_minor": 0
      },
      "text/plain": [
       "FloatSlider(value=0.5, description='Shape ratio:', max=1.0, step=0.01)"
      ]
     },
     "metadata": {},
     "output_type": "display_data"
    }
   ],
   "source": [
    "# Choose a fraction between 0 and 1\n",
    "# which will represent the percent of shapes\n",
    "# that are Shape 1\n",
    "# shape_ratio = 0 means all the shapes will be Shape 2\n",
    "\n",
    "shape_ratio = widgets.FloatSlider(\n",
    "    min=0.00, \n",
    "    max=1.00, \n",
    "    step=0.01, \n",
    "    description='Shape ratio:', \n",
    "    value=0.50,\n",
    "    readout_format='.2f')\n",
    "\n",
    "display(shape_ratio)"
   ]
  },
  {
   "cell_type": "code",
   "execution_count": 46,
   "metadata": {},
   "outputs": [],
   "source": [
    "# Setting number of particles along one side of our simulation box\n",
    "# which is the square root of the total number of particles\n",
    "num_particles_sqrt = 20"
   ]
  },
  {
   "cell_type": "code",
   "execution_count": 28,
   "metadata": {},
   "outputs": [],
   "source": [
    "#setting colors"
   ]
  },
  {
   "cell_type": "markdown",
   "metadata": {},
   "source": [
    "### Initializing the simulation"
   ]
  },
  {
   "cell_type": "code",
   "execution_count": 29,
   "metadata": {},
   "outputs": [],
   "source": [
    "#making & visualizing the unit cell"
   ]
  },
  {
   "cell_type": "code",
   "execution_count": 47,
   "metadata": {},
   "outputs": [
    {
     "name": "stdout",
     "output_type": "stream",
     "text": [
      "notice(2): Group \"all\" created containing 400 particles\n"
     ]
    }
   ],
   "source": [
    "hoomd.context.initialize(\"--mode=cpu\");\n",
    "\n",
    "system = hoomd.init.create_lattice(unitcell=hoomd.lattice.unitcell(N=2,\n",
    "                                                                  a1=[3,0,0],\n",
    "                                                                  a2=[0,6,0],\n",
    "                                                                  a3=[0,0,1],\n",
    "                                                                  dimensions=2,\n",
    "                                                                  position=[[0,0,0],\n",
    "                                                                            [0,3,0]],\n",
    "                                                                  type_name=[\"A\",\"B\"]),\n",
    "                                n=[num_particles_sqrt,int(1/2*num_particles_sqrt)])\n",
    "\n",
    "snap = system.take_snapshot()\n",
    "\n",
    "snap.particles.types = [\"A\",\"B\"]\n",
    "\n",
    "nParticles = len(snap.particles.typeid)\n",
    "\n",
    "for p in range(int(shape_ratio.value * nParticles)):\n",
    "    snap.particles.typeid[p]=0\n",
    "for p in range(int(int(shape_ratio.value * nParticles)), nParticles ):\n",
    "    snap.particles.typeid[p]=1\n",
    "    \n",
    "system.restore_snapshot(snap)"
   ]
  },
  {
   "cell_type": "code",
   "execution_count": 48,
   "metadata": {},
   "outputs": [
    {
     "data": {
      "application/vnd.jupyter.widget-view+json": {
       "model_id": "ed759e45463248b3be49d0a082e8290e",
       "version_major": 2,
       "version_minor": 0
      },
      "text/plain": [
       "VispyWidget(height=600, width=800)"
      ]
     },
     "metadata": {},
     "output_type": "display_data"
    }
   ],
   "source": [
    "#visualizing our initial frame with plato\n",
    "primA = draw.Polygons(vertices = verticesA[:,:2])\n",
    "primB = draw.Polygons(vertices = verticesB[:,:2])\n",
    "box_prim = draw.Box(color=(0, 0, 0, 1), width=.2)\n",
    "scene = draw.Scene([primA, box_prim], zoom=.5, clip_scale=5)\n",
    "scene.add_primitive(primB)\n",
    "scene.show()\n",
    "\n",
    "box = [snap.box.Lx, snap.box.Ly, snap.box.Lz, snap.box.xy, snap.box.xz, snap.box.yz]\n",
    "for (name, val) in zip(['Lx', 'Ly', 'Lz', 'xy', 'xz', 'yz'], box):\n",
    "    setattr(box_prim, name, val)  \n",
    "\n",
    "primA.positions = snap.particles.position[snap.particles.typeid == 0,:2]\n",
    "primB.positions = snap.particles.position[snap.particles.typeid == 1,:2]\n",
    "\n",
    "primA.orientations = snap.particles.orientation\n",
    "primB.orientations = snap.particles.orientation\n",
    "\n",
    "primA.diameters = np.full(len(snap.particles.position), 1)\n",
    "primB.diameters = np.full(len(snap.particles.position), 1)\n",
    "\n",
    "colorsA = np.ones((len(primA.positions), 4))\n",
    "colorsA[:, :3] = np.float32(np.divide([255, 50, 150], 255)) #pink\n",
    "primA.colors = colorsA\n",
    "\n",
    "colorsB = np.ones((len(primB.positions), 4))\n",
    "colorsB[:, :3] = np.float32(np.divide([0, 200, 100], 255)) #green\n",
    "primB.colors = colorsB\n",
    "\n",
    "scene.render()"
   ]
  },
  {
   "cell_type": "markdown",
   "metadata": {},
   "source": [
    "### Running the simulation"
   ]
  },
  {
   "cell_type": "code",
   "execution_count": 49,
   "metadata": {},
   "outputs": [],
   "source": [
    "total_steps = 2e5\n",
    "max_pressure = 20\n",
    "\n",
    "mc = hpmc.integrate.convex_polygon(seed=np.random.randint(1,1e6), d=0.5, a=0.5, move_ratio=0.5)\n",
    "mc.shape_param.set('A', vertices=verticesA)\n",
    "mc.shape_param.set('B', vertices=verticesB)\n",
    "\n",
    "boxMC = hpmc.update.boxmc(mc, hoomd.variant.linear_interp(points=[[0,1],[total_steps,max_pressure]],zero=0), \n",
    "                          np.random.randint(1,1e6))\n",
    "\n",
    "boxMC.volume(delta=1.0, weight=1.0)\n",
    "\n",
    "particle_tuner = hpmc.util.tune(obj=mc, tunables=['d','a'], target=0.2)\n",
    "box_tuner = hpmc.util.tune_npt(obj=boxMC, tunables=['dV'],  target=0.2)\n",
    "\n",
    "def update_tuner(particle_tuner, box_tuner):\n",
    "    particle_tuner.update()\n",
    "    box_tuner.update()\n",
    "\n",
    "\n",
    "all=hoomd.group.all()"
   ]
  },
  {
   "cell_type": "code",
   "execution_count": 50,
   "metadata": {},
   "outputs": [],
   "source": [
    "#record data\n",
    "\n",
    "#for visualizations\n",
    "traj = hoomd.dump.gsd(filename='traj.gsd',period=int(total_steps/100),group=all,overwrite=True)\n",
    "traj.dump_shape(mc)\n",
    "\n",
    "#for plots\n",
    "\n",
    "logger = hoomd.analyze.log(filename='log.txt',\n",
    "    quantities=['hpmc_translate_acceptance',\n",
    "                'hpmc_rotate_acceptance',\n",
    "                'hpmc_boxmc_volume_acceptance',\n",
    "                'hpmc_d',\n",
    "                'lx',\n",
    "                'hpmc_boxmc_betaP',\n",
    "                'hpmc_overlap_count'\n",
    "                ],\n",
    "    period=int(total_steps/100),\n",
    "    overwrite=True)"
   ]
  },
  {
   "cell_type": "code",
   "execution_count": 51,
   "metadata": {},
   "outputs": [
    {
     "name": "stdout",
     "output_type": "stream",
     "text": [
      "** starting run **\n",
      "Time 00:00:21 | Step 13874 / 200000 | TPS 1387.35 | ETA 00:02:14\n",
      "Time 00:00:31 | Step 25912 / 200000 | TPS 1203.75 | ETA 00:02:24\n",
      "Time 00:00:41 | Step 34935 / 200000 | TPS 902.297 | ETA 00:03:02\n",
      "Time 00:00:51 | Step 43984 / 200000 | TPS 904.862 | ETA 00:02:52\n",
      "Time 00:01:01 | Step 53435 / 200000 | TPS 945.05 | ETA 00:02:35\n",
      "Time 00:01:11 | Step 62996 / 200000 | TPS 956.062 | ETA 00:02:23\n",
      "Time 00:01:21 | Step 72099 / 200000 | TPS 910.277 | ETA 00:02:20\n",
      "Time 00:01:31 | Step 81218 / 200000 | TPS 911.822 | ETA 00:02:10\n",
      "Time 00:01:41 | Step 90735 / 200000 | TPS 951.672 | ETA 00:01:54\n",
      "Time 00:01:51 | Step 100307 / 200000 | TPS 957.097 | ETA 00:01:44\n",
      "Time 00:02:01 | Step 109444 / 200000 | TPS 913.633 | ETA 00:01:39\n",
      "Time 00:02:11 | Step 118454 / 200000 | TPS 900.959 | ETA 00:01:30\n",
      "Time 00:02:21 | Step 127949 / 200000 | TPS 949.49 | ETA 00:01:15\n",
      "Time 00:02:31 | Step 137630 / 200000 | TPS 968.025 | ETA 00:01:04\n",
      "Time 00:02:41 | Step 147354 / 200000 | TPS 972.337 | ETA 00:00:54\n",
      "Time 00:02:51 | Step 156780 / 200000 | TPS 942.588 | ETA 00:00:45\n",
      "Time 00:03:01 | Step 165731 / 200000 | TPS 895.03 | ETA 00:00:38\n",
      "Time 00:03:11 | Step 174355 / 200000 | TPS 862.37 | ETA 00:00:29\n",
      "Time 00:03:21 | Step 182712 / 200000 | TPS 835.69 | ETA 00:00:20\n",
      "Time 00:03:31 | Step 190706 / 200000 | TPS 799.333 | ETA 00:00:11\n",
      "Time 00:03:41 | Step 198424 / 200000 | TPS 771.784 | ETA 00:00:02\n",
      "Time 00:03:43 | Step 200000 / 200000 | TPS 759.112 | ETA 00:00:00\n",
      "Average TPS: 943.01\n",
      "---------\n",
      "notice(2): -- HPMC stats:\n",
      "notice(2): Average translate acceptance: 0.162213\n",
      "notice(2): Average rotate acceptance:    0.495283\n",
      "notice(2): Trial moves per second:        1.50881e+06\n",
      "notice(2): Overlap checks per second:     2.45361e+07\n",
      "notice(2): Overlap checks per trial move: 16.2619\n",
      "notice(2): Number of overlap errors:      0\n",
      "notice(2): -- HPMC box change stats:\n",
      "notice(2): Average volume acceptance: 0.209485\n",
      "notice(2): Total box changes:        200000\n",
      "** run complete **\n"
     ]
    }
   ],
   "source": [
    "number_loops = 100\n",
    "loop_steps = int(total_steps/number_loops)\n",
    "\n",
    "hoomd.run(total_steps, \n",
    "          callback_period = loop_steps, \n",
    "          callback = lambda tuner: update_tuner(particle_tuner,box_tuner))"
   ]
  },
  {
   "cell_type": "code",
   "execution_count": null,
   "metadata": {},
   "outputs": [],
   "source": [
    "#graph volume over time -- Rachael\n",
    "#graph packing fraction over time -- Rachael"
   ]
  },
  {
   "cell_type": "markdown",
   "metadata": {},
   "source": [
    "### Visualizing your simulation"
   ]
  },
  {
   "cell_type": "code",
   "execution_count": 52,
   "metadata": {},
   "outputs": [],
   "source": [
    "def getFrameCount(fname):\n",
    "    #inputs: fname, the filename (ex: 'dump.gsd')\n",
    "    #outputs: len(traj), number of frames in simulation\n",
    "    with gsd.hoomd.open(fname, 'rb') as traj:\n",
    "        return len(traj)"
   ]
  },
  {
   "cell_type": "code",
   "execution_count": 53,
   "metadata": {},
   "outputs": [
    {
     "data": {
      "application/vnd.jupyter.widget-view+json": {
       "model_id": "b0a33110a0e74f28a73ac365ccb4fa30",
       "version_major": 2,
       "version_minor": 0
      },
      "text/plain": [
       "VispyWidget(height=600, width=800)"
      ]
     },
     "metadata": {},
     "output_type": "display_data"
    },
    {
     "data": {
      "application/vnd.jupyter.widget-view+json": {
       "model_id": "2a94c36830414d5f873f963d05216fbd",
       "version_major": 2,
       "version_minor": 0
      },
      "text/plain": [
       "interactive(children=(IntSlider(value=0, description='frame_index', max=99), Output()), _dom_classes=('widget-…"
      ]
     },
     "metadata": {},
     "output_type": "display_data"
    }
   ],
   "source": [
    "primA = draw.Polygons(vertices = verticesA[:,:2])\n",
    "primB = draw.Polygons(vertices = verticesB[:,:2])\n",
    "box_prim = draw.Box(color=(0, 0, 0, 1), width=.2)\n",
    "scene = draw.Scene([primA, box_prim], zoom=.5, clip_scale=5)\n",
    "scene.add_primitive(primB)\n",
    "scene.show()\n",
    "\n",
    "filename = 'traj.gsd'\n",
    "frame_num = getFrameCount(filename)\n",
    "\n",
    "@widgets.interact(frame_index=(0, frame_num-1, 1))\n",
    "def plot(frame_index=0):\n",
    "    with gsd.hoomd.open(filename, 'rb') as traj:\n",
    "        frame = traj[frame_index]\n",
    "        box = frame.configuration.box\n",
    "        for (name, val) in zip(['Lx', 'Ly', 'Lz', 'xy', 'xz', 'yz'], box):\n",
    "            setattr(box_prim, name, val)  \n",
    "            \n",
    "        primA.positions = frame.particles.position[frame.particles.typeid == 0,:2]\n",
    "        primB.positions = frame.particles.position[frame.particles.typeid == 1,:2]\n",
    "        \n",
    "        primA.orientations = frame.particles.orientation\n",
    "        primB.orientations = frame.particles.orientation\n",
    "        \n",
    "        primA.diameters = np.full(len(frame.particles.position), 1)\n",
    "        primB.diameters = np.full(len(frame.particles.position), 1)\n",
    "        \n",
    "        colorsA = np.ones((len(primA.positions), 4))\n",
    "        colorsA[:, :3] = np.float32(np.divide([255, 50, 150], 255)) #pink\n",
    "        primA.colors = colorsA\n",
    "        \n",
    "        colorsB = np.ones((len(primB.positions), 4))\n",
    "        colorsB[:, :3] = np.float32(np.divide([0, 200, 100], 255)) #green\n",
    "        primB.colors = colorsB\n",
    "    scene.render()"
   ]
  },
  {
   "cell_type": "code",
   "execution_count": 54,
   "metadata": {},
   "outputs": [],
   "source": [
    "#Plotting values\n",
    "\n",
    "data = np.loadtxt('log.txt',skiprows=1)"
   ]
  },
  {
   "cell_type": "code",
   "execution_count": 55,
   "metadata": {},
   "outputs": [
    {
     "data": {
      "image/png": "[encoded data removed]",
      "text/plain": [
       "<Figure size 432x288 with 1 Axes>"
      ]
     },
     "metadata": {
      "needs_background": "light"
     },
     "output_type": "display_data"
    }
   ],
   "source": [
    "#Volume changes with time\n",
    "\n",
    "time = data[:,0]\n",
    "lx = data[:,5]\n",
    "volume = lx ** 3\n",
    "\n",
    "pp.scatter(time, volume);\n",
    "pp.title('Volume change over timesteps');\n",
    "pp.xlabel('Steps');\n",
    "pp.ylabel('Volume');"
   ]
  },
  {
   "cell_type": "code",
   "execution_count": 56,
   "metadata": {},
   "outputs": [
    {
     "data": {
      "image/png": "[encoded data removed]",
      "text/plain": [
       "<Figure size 432x288 with 1 Axes>"
      ]
     },
     "metadata": {
      "needs_background": "light"
     },
     "output_type": "display_data"
    }
   ],
   "source": [
    "#Volume changes with pressure\n",
    "\n",
    "pressure = data[:,6]\n",
    "lx = data[:,5]\n",
    "volume = lx ** 2\n",
    "\n",
    "pp.scatter(pressure, volume);\n",
    "pp.title('Volume change over pressure');\n",
    "pp.xlabel('Pressure');\n",
    "pp.ylabel('Volume');"
   ]
  },
  {
   "cell_type": "code",
   "execution_count": 57,
   "metadata": {},
   "outputs": [
    {
     "data": {
      "text/plain": [
       "(400.0, 1000.0)"
      ]
     },
     "execution_count": 57,
     "metadata": {},
     "output_type": "execute_result"
    },
    {
     "data": {
      "image/png": "[encoded data removed]",
      "text/plain": [
       "<Figure size 432x288 with 1 Axes>"
      ]
     },
     "metadata": {
      "needs_background": "light"
     },
     "output_type": "display_data"
    }
   ],
   "source": [
    "#Zoom in on the part below the initial compression\n",
    "\n",
    "pp.scatter(pressure, volume);\n",
    "pp.title('Volume change over pressure');\n",
    "pp.xlabel('Pressure');\n",
    "pp.ylabel('Volume');\n",
    "\n",
    "pp.ylim(400,1000)"
   ]
  },
  {
   "cell_type": "code",
   "execution_count": null,
   "metadata": {},
   "outputs": [],
   "source": []
  }
 ],
 "metadata": {
  "kernelspec": {
   "display_name": "Python 3",
   "language": "python",
   "name": "python3"
  },
  "language_info": {
   "codemirror_mode": {
    "name": "ipython",
    "version": 3
   },
   "file_extension": ".py",
   "mimetype": "text/x-python",
   "name": "python",
   "nbconvert_exporter": "python",
   "pygments_lexer": "ipython3",
   "version": "3.8.5"
  }
 },
 "nbformat": 4,
 "nbformat_minor": 2
}
