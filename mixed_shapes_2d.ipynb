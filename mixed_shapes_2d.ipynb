{
 "cells": [
  {
   "cell_type": "markdown",
   "metadata": {},
   "source": [
    "### Importing modules"
   ]
  },
  {
   "cell_type": "code",
   "execution_count": 1,
   "metadata": {},
   "outputs": [],
   "source": [
    "import hoomd\n",
    "import hoomd.hpmc as hpmc\n",
    "import coxeter\n",
    "import ipywidgets as widgets\n",
    "import gsd, gsd.hoomd\n",
    "import plato.draw.vispy as draw\n",
    "import numpy as np"
   ]
  },
  {
   "cell_type": "markdown",
   "metadata": {},
   "source": [
    "### Choosing parameters for our simulation\n",
    "\n",
    "This includes choosing the two shapes we will be using, the ratio between the shapes, and the total number of shapes in the simulation box."
   ]
  },
  {
   "cell_type": "code",
   "execution_count": 2,
   "metadata": {},
   "outputs": [],
   "source": [
    "getShape = coxeter.families.RegularNGonFamily()\n",
    "\n",
    "def make3D(vertex_list):\n",
    "    to_add = np.transpose([np.zeros(len(vertex_list))])\n",
    "    vertex_list = np.concatenate([vertex_list,to_add],axis=1)\n",
    "    return vertex_list\n",
    "\n",
    "verticesA = make3D(getShape.make_vertices(4))\n",
    "verticesB = make3D(getShape.make_vertices(5))"
   ]
  },
  {
   "cell_type": "code",
   "execution_count": 16,
   "metadata": {},
   "outputs": [
    {
     "data": {
      "text/plain": [
       "array([[ 0.64852517,  0.        ,  0.        ],\n",
       "       [ 0.2004053 ,  0.61678408,  0.        ],\n",
       "       [-0.52466788,  0.38119353,  0.        ],\n",
       "       [-0.52466788, -0.38119353,  0.        ],\n",
       "       [ 0.2004053 , -0.61678408,  0.        ]])"
      ]
     },
     "execution_count": 16,
     "metadata": {},
     "output_type": "execute_result"
    }
   ],
   "source": [
    "verticesB"
   ]
  },
  {
   "cell_type": "code",
   "execution_count": 3,
   "metadata": {},
   "outputs": [
    {
     "data": {
      "application/vnd.jupyter.widget-view+json": {
       "model_id": "d43d491e4bd54d3aa6a7995740ff7589",
       "version_major": 2,
       "version_minor": 0
      },
      "text/plain": [
       "FloatSlider(value=0.5, description='Shape ratio:', max=1.0, step=0.01)"
      ]
     },
     "metadata": {},
     "output_type": "display_data"
    }
   ],
   "source": [
    "# Choose a fraction between 0 and 1\n",
    "# which will represent the percent of shapes\n",
    "# that are Shape 1\n",
    "# shape_ratio = 0 means all the shapes will be Shape 2\n",
    "\n",
    "shape_ratio = widgets.FloatSlider(\n",
    "    min=0.00, \n",
    "    max=1.00, \n",
    "    step=0.01, \n",
    "    description='Shape ratio:', \n",
    "    value=0.50,\n",
    "    readout_format='.2f')\n",
    "\n",
    "display(shape_ratio)"
   ]
  },
  {
   "cell_type": "code",
   "execution_count": 4,
   "metadata": {},
   "outputs": [],
   "source": [
    "# Setting number of particles along one side of our simulation box\n",
    "# which is the square root of the total number of particles\n",
    "num_particles_sqrt = 20"
   ]
  },
  {
   "cell_type": "code",
   "execution_count": null,
   "metadata": {},
   "outputs": [],
   "source": [
    "#setting colors"
   ]
  },
  {
   "cell_type": "markdown",
   "metadata": {},
   "source": [
    "### Initializing the simulation"
   ]
  },
  {
   "cell_type": "code",
   "execution_count": null,
   "metadata": {},
   "outputs": [],
   "source": [
    "#making & visualizing the unit cell"
   ]
  },
  {
   "cell_type": "code",
   "execution_count": 5,
   "metadata": {},
   "outputs": [
    {
     "name": "stdout",
     "output_type": "stream",
     "text": [
      "HOOMD-blue 2.9.7 DOUBLE HPMC_MIXED TBB SSE SSE2 SSE3 \n",
      "Compiled: 08/09/2021\n",
      "Copyright (c) 2009-2019 The Regents of the University of Michigan.\n",
      "-----\n",
      "You are using HOOMD-blue. Please cite the following:\n",
      "* J A Anderson, J Glaser, and S C Glotzer. \"HOOMD-blue: A Python package for\n",
      "  high-performance molecular dynamics and hard particle Monte Carlo\n",
      "  simulations\", Computational Materials Science 173 (2020) 109363\n",
      "-----\n",
      "-----\n",
      "You are using HPMC. Please cite the following:\n",
      "* J A Anderson, M E Irrgang, and S C Glotzer. \"Scalable Metropolis Monte Carlo\n",
      "  for simulation of hard shapes\", Computer Physics Communications 204 (2016) 21\n",
      "  --30\n",
      "-----\n",
      "HOOMD-blue is running on the CPU\n",
      "notice(2): Group \"all\" created containing 400 particles\n"
     ]
    }
   ],
   "source": [
    "hoomd.context.initialize(\"--mode=cpu\");\n",
    "\n",
    "system = hoomd.init.create_lattice(unitcell=hoomd.lattice.unitcell(N=2,\n",
    "                                                                  a1=[3,0,0],\n",
    "                                                                  a2=[0,6,0],\n",
    "                                                                  a3=[0,0,1],\n",
    "                                                                  dimensions=2,\n",
    "                                                                  position=[[0,0,0],\n",
    "                                                                            [0,3,0]],\n",
    "                                                                  type_name=[\"A\",\"B\"]),\n",
    "                                n=[num_particles_sqrt,int(1/2*num_particles_sqrt)])\n",
    "\n",
    "snap = system.take_snapshot()\n",
    "\n",
    "snap.particles.types = [\"A\",\"B\"]\n",
    "\n",
    "for p in range(int(shape_ratio.value*(num_particles_sqrt**2))):\n",
    "    snap.particles.typeid[p]=0\n",
    "for p in range(int(shape_ratio.value*(num_particles_sqrt**2)),num_particles_sqrt**2):\n",
    "    snap.particles.typeid[p]=1\n",
    "    \n",
    "system.restore_snapshot(snap)"
   ]
  },
  {
   "cell_type": "code",
   "execution_count": 15,
   "metadata": {},
   "outputs": [
    {
     "data": {
      "application/vnd.jupyter.widget-view+json": {
       "model_id": "8b91a5d2f70e44bf978f4acb22906354",
       "version_major": 2,
       "version_minor": 0
      },
      "text/plain": [
       "VispyWidget(height=600, width=800)"
      ]
     },
     "metadata": {},
     "output_type": "display_data"
    }
   ],
   "source": [
    "#visualizing our initial frame with plato\n",
    "primA = draw.Polygons(vertices = verticesA[:,:2])\n",
    "primB = draw.Polygons(vertices = verticesB[:,:2])\n",
    "box_prim = draw.Box(color=(0, 0, 0, 1), width=.2)\n",
    "scene = draw.Scene([primA, box_prim], zoom=.5, clip_scale=5)\n",
    "scene.add_primitive(primB)\n",
    "scene.show()\n",
    "\n",
    "box = [snap.box.Lx, snap.box.Ly, snap.box.Lz, snap.box.xy, snap.box.xz, snap.box.yz]\n",
    "for (name, val) in zip(['Lx', 'Ly', 'Lz', 'xy', 'xz', 'yz'], box):\n",
    "    setattr(box_prim, name, val)  \n",
    "\n",
    "primA.positions = snap.particles.position[snap.particles.typeid == 0,:2]\n",
    "primB.positions = snap.particles.position[snap.particles.typeid == 1,:2]\n",
    "\n",
    "primA.orientations = snap.particles.orientation\n",
    "primB.orientations = snap.particles.orientation\n",
    "\n",
    "primA.diameters = np.full(len(snap.particles.position), 1)\n",
    "primB.diameters = np.full(len(snap.particles.position), 1)\n",
    "\n",
    "colorsA = np.ones((len(primA.positions), 4))\n",
    "colorsA[:, :3] = np.float32(np.divide([255, 50, 150], 255)) #pink\n",
    "primA.colors = colorsA\n",
    "\n",
    "colorsB = np.ones((len(primB.positions), 4))\n",
    "colorsB[:, :3] = np.float32(np.divide([0, 200, 100], 255)) #green\n",
    "primB.colors = colorsB\n",
    "\n",
    "scene.render()"
   ]
  },
  {
   "cell_type": "markdown",
   "metadata": {},
   "source": [
    "### Running the simulation"
   ]
  },
  {
   "cell_type": "code",
   "execution_count": 7,
   "metadata": {},
   "outputs": [],
   "source": [
    "mc = hpmc.integrate.convex_polygon(seed=np.random.randint(1,1e6), d=0.5, a=0.5, move_ratio=0.5)\n",
    "mc.shape_param.set('A', vertices=verticesA)\n",
    "mc.shape_param.set('B', vertices=verticesB)\n",
    "\n",
    "boxMC = hpmc.update.boxmc(mc, hoomd.variant.linear_interp(points=[[0,1],[1e5,20]],zero=0), \n",
    "                          np.random.randint(1,1e6))\n",
    "\n",
    "boxMC.volume(delta=1.0, weight=1.0)\n",
    "\n",
    "particle_tuner = hpmc.util.tune(obj=mc, tunables=['d','a'], target=0.2)\n",
    "box_tuner = hpmc.util.tune_npt(obj=boxMC, tunables=['dV'],  target=0.2)\n",
    "\n",
    "\n",
    "all=hoomd.group.all()"
   ]
  },
  {
   "cell_type": "code",
   "execution_count": 8,
   "metadata": {},
   "outputs": [],
   "source": [
    "traj = hoomd.dump.gsd(filename='traj3.gsd',period=int(100),group=all,overwrite=True)\n",
    "traj.dump_shape(mc)"
   ]
  },
  {
   "cell_type": "code",
   "execution_count": 9,
   "metadata": {},
   "outputs": [
    {
     "name": "stdout",
     "output_type": "stream",
     "text": [
      "** starting run **\n",
      "Time 00:00:45 | Step 11839 / 1000000 | TPS 1183.83 | ETA 00:13:54\n",
      "Time 00:00:55 | Step 21319 / 1000000 | TPS 947.931 | ETA 00:17:12\n",
      "Time 00:01:05 | Step 29957 / 1000000 | TPS 863.739 | ETA 00:18:43\n",
      "Time 00:01:15 | Step 37645 / 1000000 | TPS 768.71 | ETA 00:20:51\n",
      "Time 00:01:25 | Step 45835 / 1000000 | TPS 818.985 | ETA 00:19:25\n",
      "Time 00:01:35 | Step 53878 / 1000000 | TPS 804.298 | ETA 00:19:36\n",
      "Time 00:01:45 | Step 62434 / 1000000 | TPS 855.52 | ETA 00:18:15\n",
      "Time 00:01:55 | Step 71890 / 1000000 | TPS 945.571 | ETA 00:16:21\n",
      "Time 00:02:05 | Step 81159 / 1000000 | TPS 926.87 | ETA 00:16:31\n",
      "Time 00:02:15 | Step 90799 / 1000000 | TPS 963.959 | ETA 00:15:43\n",
      "Time 00:02:25 | Step 100662 / 1000000 | TPS 986.215 | ETA 00:15:11\n",
      "Time 00:02:35 | Step 110713 / 1000000 | TPS 1005.06 | ETA 00:14:44\n",
      "Time 00:02:45 | Step 120796 / 1000000 | TPS 1008.23 | ETA 00:14:32\n",
      "Time 00:02:55 | Step 130540 / 1000000 | TPS 974.391 | ETA 00:14:52\n",
      "Time 00:03:05 | Step 140436 / 1000000 | TPS 989.569 | ETA 00:14:28\n",
      "Time 00:03:15 | Step 150339 / 1000000 | TPS 990.249 | ETA 00:14:18\n",
      "Time 00:03:25 | Step 159993 / 1000000 | TPS 965.384 | ETA 00:14:30\n",
      "Time 00:03:35 | Step 169037 / 1000000 | TPS 904.339 | ETA 00:15:18\n",
      "Time 00:03:45 | Step 178836 / 1000000 | TPS 979.867 | ETA 00:13:58\n",
      "Time 00:03:55 | Step 188511 / 1000000 | TPS 967.426 | ETA 00:13:58\n",
      "Time 00:04:05 | Step 198133 / 1000000 | TPS 962.164 | ETA 00:13:53\n",
      "Time 00:04:15 | Step 208358 / 1000000 | TPS 1022.45 | ETA 00:12:54\n",
      "Time 00:04:25 | Step 217063 / 1000000 | TPS 870.407 | ETA 00:14:59\n",
      "Time 00:04:35 | Step 227107 / 1000000 | TPS 1004.36 | ETA 00:12:49\n",
      "Time 00:04:45 | Step 237297 / 1000000 | TPS 1018.92 | ETA 00:12:28\n",
      "Time 00:04:55 | Step 246731 / 1000000 | TPS 943.301 | ETA 00:13:18\n",
      "Time 00:05:05 | Step 256631 / 1000000 | TPS 989.984 | ETA 00:12:30\n",
      "Time 00:05:15 | Step 266379 / 1000000 | TPS 974.799 | ETA 00:12:32\n",
      "Time 00:05:25 | Step 276372 / 1000000 | TPS 999.248 | ETA 00:12:04\n",
      "Time 00:05:35 | Step 286401 / 1000000 | TPS 1002.87 | ETA 00:11:51\n",
      "Time 00:05:45 | Step 296599 / 1000000 | TPS 1019.75 | ETA 00:11:29\n",
      "Time 00:05:55 | Step 306431 / 1000000 | TPS 983.103 | ETA 00:11:45\n",
      "Time 00:06:05 | Step 316453 / 1000000 | TPS 1002.11 | ETA 00:11:22\n",
      "Time 00:06:15 | Step 326225 / 1000000 | TPS 977.178 | ETA 00:11:29\n",
      "Time 00:06:25 | Step 336034 / 1000000 | TPS 980.9 | ETA 00:11:16\n",
      "Time 00:06:35 | Step 346118 / 1000000 | TPS 1008.27 | ETA 00:10:48\n",
      "Time 00:06:45 | Step 356504 / 1000000 | TPS 1038.48 | ETA 00:10:19\n",
      "Time 00:06:55 | Step 366654 / 1000000 | TPS 1014.9 | ETA 00:10:24\n",
      "Time 00:07:05 | Step 376841 / 1000000 | TPS 1018.63 | ETA 00:10:11\n",
      "Time 00:07:15 | Step 387191 / 1000000 | TPS 1034.96 | ETA 00:09:52\n",
      "Time 00:07:25 | Step 397368 / 1000000 | TPS 1017.63 | ETA 00:09:52\n",
      "Time 00:07:35 | Step 407431 / 1000000 | TPS 1006.22 | ETA 00:09:48\n",
      "Time 00:07:45 | Step 417928 / 1000000 | TPS 1049.64 | ETA 00:09:14\n",
      "Time 00:07:55 | Step 428457 / 1000000 | TPS 1052.89 | ETA 00:09:02\n",
      "Time 00:08:05 | Step 439041 / 1000000 | TPS 1058.37 | ETA 00:08:50\n",
      "Time 00:08:15 | Step 449517 / 1000000 | TPS 1047.56 | ETA 00:08:45\n",
      "Time 00:08:25 | Step 460197 / 1000000 | TPS 1067.99 | ETA 00:08:25\n",
      "Time 00:08:35 | Step 470915 / 1000000 | TPS 1071.78 | ETA 00:08:13\n",
      "Time 00:08:45 | Step 481667 / 1000000 | TPS 1075.13 | ETA 00:08:02\n",
      "Time 00:08:55 | Step 492301 / 1000000 | TPS 1063.3 | ETA 00:07:57\n",
      "Time 00:09:05 | Step 502871 / 1000000 | TPS 1056.99 | ETA 00:07:50\n",
      "Time 00:09:15 | Step 513418 / 1000000 | TPS 1054.62 | ETA 00:07:41\n",
      "Time 00:09:25 | Step 524122 / 1000000 | TPS 1070.38 | ETA 00:07:24\n",
      "Time 00:09:35 | Step 534799 / 1000000 | TPS 1067.61 | ETA 00:07:15\n",
      "Time 00:09:45 | Step 545393 / 1000000 | TPS 1059.39 | ETA 00:07:09\n",
      "Time 00:09:55 | Step 556090 / 1000000 | TPS 1069.66 | ETA 00:06:55\n",
      "Time 00:10:05 | Step 566634 / 1000000 | TPS 1054.34 | ETA 00:06:51\n",
      "Time 00:10:15 | Step 577274 / 1000000 | TPS 1063.97 | ETA 00:06:37\n",
      "Time 00:10:25 | Step 587947 / 1000000 | TPS 1067.27 | ETA 00:06:26\n",
      "Time 00:10:35 | Step 598703 / 1000000 | TPS 1075.53 | ETA 00:06:13\n",
      "Time 00:10:45 | Step 609345 / 1000000 | TPS 1064.18 | ETA 00:06:07\n",
      "Time 00:10:55 | Step 620081 / 1000000 | TPS 1073.56 | ETA 00:05:53\n",
      "Time 00:11:05 | Step 630759 / 1000000 | TPS 1067.75 | ETA 00:05:45\n",
      "Time 00:11:15 | Step 641450 / 1000000 | TPS 1069.02 | ETA 00:05:35\n",
      "Time 00:11:25 | Step 652144 / 1000000 | TPS 1069.3 | ETA 00:05:25\n",
      "Time 00:11:35 | Step 662923 / 1000000 | TPS 1077.83 | ETA 00:05:12\n",
      "Time 00:11:45 | Step 673703 / 1000000 | TPS 1077.9 | ETA 00:05:02\n",
      "Time 00:11:55 | Step 684395 / 1000000 | TPS 1069.1 | ETA 00:04:55\n",
      "Time 00:12:05 | Step 695063 / 1000000 | TPS 1066.76 | ETA 00:04:45\n",
      "Time 00:12:15 | Step 705798 / 1000000 | TPS 1073.48 | ETA 00:04:34\n",
      "Time 00:12:25 | Step 716584 / 1000000 | TPS 1078.51 | ETA 00:04:22\n",
      "Time 00:12:35 | Step 727314 / 1000000 | TPS 1072.89 | ETA 00:04:14\n",
      "Time 00:12:45 | Step 738132 / 1000000 | TPS 1081.79 | ETA 00:04:02\n",
      "Time 00:12:55 | Step 749040 / 1000000 | TPS 1090.8 | ETA 00:03:50\n",
      "Time 00:13:05 | Step 759856 / 1000000 | TPS 1081.56 | ETA 00:03:42\n",
      "Time 00:13:15 | Step 770640 / 1000000 | TPS 1078.37 | ETA 00:03:32\n",
      "Time 00:13:25 | Step 781225 / 1000000 | TPS 1058.44 | ETA 00:03:26\n",
      "Time 00:13:35 | Step 791992 / 1000000 | TPS 1076.62 | ETA 00:03:13\n",
      "Time 00:13:45 | Step 802778 / 1000000 | TPS 1078.55 | ETA 00:03:02\n",
      "Time 00:13:55 | Step 813292 / 1000000 | TPS 1051.3 | ETA 00:02:57\n",
      "Time 00:14:05 | Step 824005 / 1000000 | TPS 1071.27 | ETA 00:02:44\n",
      "Time 00:14:15 | Step 834736 / 1000000 | TPS 1073.05 | ETA 00:02:34\n",
      "Time 00:14:25 | Step 845491 / 1000000 | TPS 1075.43 | ETA 00:02:23\n",
      "Time 00:14:35 | Step 856300 / 1000000 | TPS 1080.88 | ETA 00:02:12\n",
      "Time 00:14:45 | Step 866985 / 1000000 | TPS 1068.5 | ETA 00:02:04\n",
      "Time 00:14:55 | Step 877716 / 1000000 | TPS 1073.1 | ETA 00:01:53\n",
      "Time 00:15:05 | Step 888488 / 1000000 | TPS 1077.12 | ETA 00:01:43\n",
      "Time 00:15:15 | Step 899231 / 1000000 | TPS 1074.29 | ETA 00:01:33\n",
      "Time 00:15:25 | Step 909960 / 1000000 | TPS 1072.79 | ETA 00:01:23\n",
      "Time 00:15:35 | Step 920576 / 1000000 | TPS 1061.57 | ETA 00:01:14\n",
      "Time 00:15:45 | Step 931285 / 1000000 | TPS 1070.88 | ETA 00:01:04\n",
      "Time 00:15:55 | Step 941772 / 1000000 | TPS 1048.7 | ETA 00:00:55\n",
      "Time 00:16:05 | Step 952052 / 1000000 | TPS 1027.97 | ETA 00:00:46\n",
      "Time 00:16:15 | Step 961614 / 1000000 | TPS 956.097 | ETA 00:00:40\n",
      "Time 00:16:25 | Step 971874 / 1000000 | TPS 1025.91 | ETA 00:00:27\n",
      "Time 00:16:35 | Step 981940 / 1000000 | TPS 1006.54 | ETA 00:00:17\n",
      "Time 00:16:45 | Step 992444 / 1000000 | TPS 1050.39 | ETA 00:00:07\n",
      "Time 00:16:52 | Step 1000000 / 1000000 | TPS 998.139 | ETA 00:00:00\n",
      "Average TPS: 1022.89\n",
      "---------\n",
      "notice(2): -- HPMC stats:\n",
      "notice(2): Average translate acceptance: 0.0268527\n",
      "notice(2): Average rotate acceptance:    0.173658\n",
      "notice(2): Trial moves per second:        1.63663e+06\n",
      "notice(2): Overlap checks per second:     1.99483e+07\n",
      "notice(2): Overlap checks per trial move: 12.1887\n",
      "notice(2): Number of overlap errors:      0\n",
      "notice(2): -- HPMC box change stats:\n",
      "notice(2): Average volume acceptance: 0.068386\n",
      "notice(2): Total box changes:        1000000\n",
      "** run complete **\n"
     ]
    }
   ],
   "source": [
    "hoomd.run(1e6)"
   ]
  },
  {
   "cell_type": "code",
   "execution_count": null,
   "metadata": {},
   "outputs": [],
   "source": [
    "#graph volume over time -- Rachael\n",
    "#graph packing fraction over time -- Rachael"
   ]
  },
  {
   "cell_type": "markdown",
   "metadata": {},
   "source": [
    "### Visualizing your simulation"
   ]
  },
  {
   "cell_type": "code",
   "execution_count": 10,
   "metadata": {},
   "outputs": [],
   "source": [
    "def getFrameCount(fname):\n",
    "    #inputs: fname, the filename (ex: 'dump.gsd')\n",
    "    #outputs: len(traj), number of frames in simulation\n",
    "    with gsd.hoomd.open(fname, 'rb') as traj:\n",
    "        return len(traj)"
   ]
  },
  {
   "cell_type": "code",
   "execution_count": 17,
   "metadata": {},
   "outputs": [
    {
     "data": {
      "application/vnd.jupyter.widget-view+json": {
       "model_id": "317e08bd5ae740cc9e87c40cfcf0d069",
       "version_major": 2,
       "version_minor": 0
      },
      "text/plain": [
       "VispyWidget(height=600, width=800)"
      ]
     },
     "metadata": {},
     "output_type": "display_data"
    },
    {
     "data": {
      "application/vnd.jupyter.widget-view+json": {
       "model_id": "c22fc2eece234af5bd7f6bbdec38113b",
       "version_major": 2,
       "version_minor": 0
      },
      "text/plain": [
       "interactive(children=(IntSlider(value=0, description='frame_index', max=9999), Output()), _dom_classes=('widge…"
      ]
     },
     "metadata": {},
     "output_type": "display_data"
    }
   ],
   "source": [
    "primA = draw.Polygons(vertices = verticesA[:,:2])\n",
    "primB = draw.Polygons(vertices = verticesB[:,:2])\n",
    "box_prim = draw.Box(color=(0, 0, 0, 1), width=.2)\n",
    "scene = draw.Scene([primA, box_prim], zoom=.5, clip_scale=5)\n",
    "scene.add_primitive(primB)\n",
    "scene.show()\n",
    "\n",
    "filename = 'traj3.gsd'\n",
    "frame_num = getFrameCount(filename)\n",
    "\n",
    "@widgets.interact(frame_index=(0, frame_num-1, 1))\n",
    "def plot(frame_index=0):\n",
    "    with gsd.hoomd.open(filename, 'rb') as traj:\n",
    "        frame = traj[frame_index]\n",
    "        box = frame.configuration.box\n",
    "        for (name, val) in zip(['Lx', 'Ly', 'Lz', 'xy', 'xz', 'yz'], box):\n",
    "            setattr(box_prim, name, val)  \n",
    "            \n",
    "        primA.positions = frame.particles.position[frame.particles.typeid == 0,:2]\n",
    "        primB.positions = frame.particles.position[frame.particles.typeid == 1,:2]\n",
    "        \n",
    "        primA.orientations = frame.particles.orientation\n",
    "        primB.orientations = frame.particles.orientation\n",
    "        \n",
    "        primA.diameters = np.full(len(frame.particles.position), 1)\n",
    "        primB.diameters = np.full(len(frame.particles.position), 1)\n",
    "        \n",
    "        colorsA = np.ones((len(primA.positions), 4))\n",
    "        colorsA[:, :3] = np.float32(np.divide([255, 50, 150], 255)) #pink\n",
    "        primA.colors = colorsA\n",
    "        \n",
    "        colorsB = np.ones((len(primB.positions), 4))\n",
    "        colorsB[:, :3] = np.float32(np.divide([0, 200, 100], 255)) #green\n",
    "        primB.colors = colorsB\n",
    "    scene.render()"
   ]
  },
  {
   "cell_type": "code",
   "execution_count": null,
   "metadata": {},
   "outputs": [],
   "source": []
  }
 ],
 "metadata": {
  "kernelspec": {
   "display_name": "Python 3",
   "language": "python",
   "name": "python3"
  },
  "language_info": {
   "codemirror_mode": {
    "name": "ipython",
    "version": 3
   },
   "file_extension": ".py",
   "mimetype": "text/x-python",
   "name": "python",
   "nbconvert_exporter": "python",
   "pygments_lexer": "ipython3",
   "version": "3.8.10"
  }
 },
 "nbformat": 4,
 "nbformat_minor": 2
}
