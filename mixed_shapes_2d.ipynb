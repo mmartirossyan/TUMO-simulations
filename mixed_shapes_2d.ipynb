{
 "cells": [
  {
   "cell_type": "code",
   "execution_count": 1,
   "metadata": {},
   "outputs": [
    {
     "name": "stdout",
     "output_type": "stream",
     "text": [
      "Populating the interactive namespace from numpy and matplotlib\n"
     ]
    },
    {
     "name": "stderr",
     "output_type": "stream",
     "text": [
      "/Users/mayamartirossyan/anaconda3/envs/closet/lib/python3.8/site-packages/IPython/core/magics/pylab.py:159: UserWarning: pylab import has clobbered these variables: ['interactive', 'draw']\n",
      "`%matplotlib` prevents importing * from pylab and numpy\n",
      "  warn(\"pylab import has clobbered these variables: %s\"  % clobbered +\n"
     ]
    }
   ],
   "source": [
    "import hoomd\n",
    "import hoomd.hpmc\n",
    "import coxeter\n",
    "from ipywidgets import interact, interactive\n",
    "import ipywidgets as widgets\n",
    "import plato, plato.draw.vispy as draw\n",
    "import gsd, gsd.hoomd\n",
    "%pylab inline"
   ]
  },
  {
   "cell_type": "code",
   "execution_count": null,
   "metadata": {},
   "outputs": [],
   "source": [
    "#coxeter shapes RegularNGON family in 2D -- Rachael"
   ]
  },
  {
   "cell_type": "code",
   "execution_count": 2,
   "metadata": {},
   "outputs": [
    {
     "name": "stdout",
     "output_type": "stream",
     "text": [
      "HOOMD-blue 2.9.7 DOUBLE HPMC_MIXED TBB SSE SSE2 SSE3 \n",
      "Compiled: 08/09/2021\n",
      "Copyright (c) 2009-2019 The Regents of the University of Michigan.\n",
      "-----\n",
      "You are using HOOMD-blue. Please cite the following:\n",
      "* J A Anderson, J Glaser, and S C Glotzer. \"HOOMD-blue: A Python package for\n",
      "  high-performance molecular dynamics and hard particle Monte Carlo\n",
      "  simulations\", Computational Materials Science 173 (2020) 109363\n",
      "-----\n",
      "-----\n",
      "You are using HPMC. Please cite the following:\n",
      "* J A Anderson, M E Irrgang, and S C Glotzer. \"Scalable Metropolis Monte Carlo\n",
      "  for simulation of hard shapes\", Computer Physics Communications 204 (2016) 21\n",
      "  --30\n",
      "-----\n",
      "HOOMD-blue is running on the CPU\n"
     ]
    }
   ],
   "source": [
    "hoomd.context.initialize(\"--mode=cpu\");"
   ]
  },
  {
   "cell_type": "code",
   "execution_count": 22,
   "metadata": {},
   "outputs": [],
   "source": [
    "# We can use text input\n",
    "shape_1 = 'square'"
   ]
  },
  {
   "cell_type": "code",
   "execution_count": 26,
   "metadata": {},
   "outputs": [
    {
     "data": {
      "application/vnd.jupyter.widget-view+json": {
       "model_id": "4e562c13dc74442bbe36008254cb6d5d",
       "version_major": 2,
       "version_minor": 0
      },
      "text/plain": [
       "Text(value='', description='2nd shape:', placeholder='Type something')"
      ]
     },
     "metadata": {},
     "output_type": "display_data"
    }
   ],
   "source": [
    "# We can also use more interactive input methods\n",
    "shape_2 = widgets.Text(\n",
    "    value='',\n",
    "    placeholder='Type something',\n",
    "    description='2nd shape:',\n",
    "    disabled=False\n",
    ")\n",
    "\n",
    "display(shape_2)"
   ]
  },
  {
   "cell_type": "code",
   "execution_count": 19,
   "metadata": {},
   "outputs": [
    {
     "name": "stdout",
     "output_type": "stream",
     "text": [
      "\n"
     ]
    }
   ],
   "source": [
    "print(shape_2.value) #this is how you access the string for the second shape chosen"
   ]
  },
  {
   "cell_type": "code",
   "execution_count": 32,
   "metadata": {},
   "outputs": [
    {
     "data": {
      "application/vnd.jupyter.widget-view+json": {
       "model_id": "ef54b84f8f8b46a89d8291957b1715d7",
       "version_major": 2,
       "version_minor": 0
      },
      "text/plain": [
       "FloatSlider(value=0.5, description='Shape ratio:', max=1.0, step=0.01)"
      ]
     },
     "metadata": {},
     "output_type": "display_data"
    }
   ],
   "source": [
    "# Choose a fraction between 0 and 1\n",
    "# which will represent the percent of shapes\n",
    "# that are Shape 1\n",
    "# shape_ratio = 0 means all the shapes will be Shape 2\n",
    "\n",
    "shape_ratio = widgets.FloatSlider(\n",
    "    min=0.00, \n",
    "    max=1.00, \n",
    "    step=0.01, \n",
    "    description='Shape ratio:', \n",
    "    value=0.50,\n",
    "    readout_format='.2f')\n",
    "\n",
    "display(shape_ratio)"
   ]
  },
  {
   "cell_type": "code",
   "execution_count": 34,
   "metadata": {},
   "outputs": [
    {
     "name": "stdout",
     "output_type": "stream",
     "text": [
      "0.81\n"
     ]
    }
   ],
   "source": [
    "print(shape_ratio.value)"
   ]
  },
  {
   "cell_type": "code",
   "execution_count": null,
   "metadata": {},
   "outputs": [],
   "source": [
    "numParticles_sqrt = 10 # example: if numParticles_sqrt = 10, then there are 100 particles in the system"
   ]
  },
  {
   "cell_type": "code",
   "execution_count": null,
   "metadata": {},
   "outputs": [],
   "source": [
    "system = hoomd.init.create_lattice(unitcell=hoomd.lattice.sq(a=3),\n",
    "                                   n=numParticles_sqrt);"
   ]
  },
  {
   "cell_type": "code",
   "execution_count": null,
   "metadata": {},
   "outputs": [],
   "source": [
    "#actual simulation setup goes here"
   ]
  },
  {
   "cell_type": "code",
   "execution_count": null,
   "metadata": {},
   "outputs": [],
   "source": [
    "#graph volume over time -- Rachael\n",
    "#graph packing fraction over time -- Rachael"
   ]
  },
  {
   "cell_type": "markdown",
   "metadata": {},
   "source": [
    "### Plato visualizations"
   ]
  },
  {
   "cell_type": "code",
   "execution_count": null,
   "metadata": {},
   "outputs": [],
   "source": [
    "def getFrameCount(fname):\n",
    "    #inputs: fname, the filename (ex: 'dump.gsd')\n",
    "    #outputs: len(traj), number of frames in simulation\n",
    "    with gsd.hoomd.open(fname, 'rb') as traj:\n",
    "        return len(traj)"
   ]
  },
  {
   "cell_type": "code",
   "execution_count": null,
   "metadata": {},
   "outputs": [],
   "source": [
    "prim = draw.Polygons() #how to get it to consider different polygons?\n",
    "box_prim = draw.Box(color=(0, 0, 0, 1), width=.2)\n",
    "scene = draw.Scene([prim, box_prim], zoom=.5, clip_scale=5)\n",
    "scene.show()\n",
    "\n",
    "filename = 'dump.gsd'\n",
    "frame_num = getFrameCount(filename)\n",
    "\n",
    "@ipywidgets.interact(frame_index=range(frame_num))\n",
    "def plot(frame_index=0):\n",
    "    with gsd.hoomd.open(filename, 'rb') as traj:\n",
    "        frame = traj[frame_index]\n",
    "        box = frame.configuration.box\n",
    "        for (name, val) in zip(['Lx', 'Ly', 'Lz', 'xy', 'xz', 'yz'], box):\n",
    "            setattr(box_prim, name, val)\n",
    "        prim.positions = frame.particles.position\n",
    "        prim.diameters = np.full(len(frame.particles.position), 1)\n",
    "    scene.render()"
   ]
  }
 ],
 "metadata": {
  "kernelspec": {
   "display_name": "Python 3",
   "language": "python",
   "name": "python3"
  },
  "language_info": {
   "codemirror_mode": {
    "name": "ipython",
    "version": 3
   },
   "file_extension": ".py",
   "mimetype": "text/x-python",
   "name": "python",
   "nbconvert_exporter": "python",
   "pygments_lexer": "ipython3",
   "version": "3.8.10"
  }
 },
 "nbformat": 4,
 "nbformat_minor": 2
}
