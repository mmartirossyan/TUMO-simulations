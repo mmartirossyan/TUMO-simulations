{
 "cells": [
  {
   "cell_type": "markdown",
   "metadata": {},
   "source": [
    "# Binary shapes in 2D\n",
    "### Simulation written by Rachael Skye and Maya Martirossyan"
   ]
  },
  {
   "cell_type": "code",
   "execution_count": null,
   "metadata": {},
   "outputs": [],
   "source": [
    "# importing modules\n",
    "\n",
    "import hoomd\n",
    "import hoomd.hpmc as hpmc\n",
    "import coxeter\n",
    "import ipywidgets as widgets\n",
    "import gsd, gsd.hoomd\n",
    "import plato.draw.vispy as draw\n",
    "import numpy as np\n",
    "import matplotlib.pyplot as pp"
   ]
  },
  {
   "cell_type": "markdown",
   "metadata": {},
   "source": [
    "### Choosing parameters for our simulation\n",
    "\n",
    "This includes choosing the two shapes we will be using, the ratio between the shapes, and the total number of shapes in the simulation box."
   ]
  },
  {
   "cell_type": "code",
   "execution_count": null,
   "metadata": {},
   "outputs": [],
   "source": [
    "# we will be using regular polygons for our shapes\n",
    "getShape = coxeter.families.RegularNGonFamily()\n",
    "\n",
    "def make3D(vertex_list):\n",
    "    \"\"\"\n",
    "    input: vertex_list for 2D shapes\n",
    "    output: vertex_list for same shapes but \"in 3D\"\n",
    "    \"\"\"\n",
    "    to_add = np.transpose([np.zeros(len(vertex_list))])\n",
    "    vertex_list = np.concatenate([vertex_list,to_add],axis=1)\n",
    "    return vertex_list\n",
    "\n",
    "# choose shapes by the number of vertices that shape has\n",
    "verticesA = make3D(getShape.make_vertices(3))\n",
    "verticesB = make3D(getShape.make_vertices(8))"
   ]
  },
  {
   "cell_type": "code",
   "execution_count": null,
   "metadata": {},
   "outputs": [],
   "source": [
    "# choose a fraction between 0 and 1\n",
    "# which will represent the percent of shapes that are shape A\n",
    "# example:\n",
    "# shape_ratio = 0 means all the shapes will be shape B\n",
    "\n",
    "shape_ratio = widgets.FloatSlider(\n",
    "    min=0.00, \n",
    "    max=1.00, \n",
    "    step=0.01, \n",
    "    description='Shape ratio (%A):', \n",
    "    value=0.50,\n",
    "    readout_format='.2f')\n",
    "\n",
    "display(shape_ratio)"
   ]
  },
  {
   "cell_type": "code",
   "execution_count": null,
   "metadata": {},
   "outputs": [],
   "source": [
    "# setting number of particles along one side of our simulation box\n",
    "# which is the square root of the total number of particles\n",
    "num_particles_sqrt = 20"
   ]
  },
  {
   "cell_type": "code",
   "execution_count": null,
   "metadata": {},
   "outputs": [],
   "source": [
    "# setting colors\n",
    "# RGB values between 0 and 1\n",
    "color_A = np.float32(np.divide([255, 50, 150], 255)) #pink\n",
    "color_B = np.float32(np.divide([0, 200, 100], 255)) #green"
   ]
  },
  {
   "cell_type": "markdown",
   "metadata": {},
   "source": [
    "### Initializing the simulation"
   ]
  },
  {
   "cell_type": "code",
   "execution_count": null,
   "metadata": {},
   "outputs": [],
   "source": [
    "#making & visualizing the unit cell"
   ]
  },
  {
   "cell_type": "code",
   "execution_count": null,
   "metadata": {},
   "outputs": [],
   "source": [
    "hoomd.context.initialize(\"--mode=cpu\");\n",
    "\n",
    "# defining the first frame of our simulation\n",
    "# set up lattice of particles\n",
    "system = hoomd.init.create_lattice(unitcell=hoomd.lattice.unitcell(N=2,\n",
    "                                                                  a1=[3,0,0],\n",
    "                                                                  a2=[0,6,0],\n",
    "                                                                  a3=[0,0,1],\n",
    "                                                                  dimensions=2,\n",
    "                                                                  position=[[0,0,0],\n",
    "                                                                            [0,3,0]],\n",
    "                                                                  type_name=[\"A\",\"B\"]),\n",
    "                                n=[num_particles_sqrt,int(1/2*num_particles_sqrt)])\n",
    "# taking snapshot of the first frame\n",
    "snap = system.take_snapshot()\n",
    "\n",
    "# defining particle types\n",
    "snap.particles.types = [\"A\",\"B\"]\n",
    "\n",
    "nParticles = len(snap.particles.typeid)\n",
    "\n",
    "# assign types to different shapes\n",
    "for p in range(int(shape_ratio.value * nParticles)):\n",
    "    snap.particles.typeid[p]=0\n",
    "for p in range(int(int(shape_ratio.value * nParticles)), nParticles ):\n",
    "    snap.particles.typeid[p]=1\n",
    "    \n",
    "system.restore_snapshot(snap)"
   ]
  },
  {
   "cell_type": "code",
   "execution_count": null,
   "metadata": {},
   "outputs": [],
   "source": [
    "# visualizing our initial frame with plato\n",
    "\n",
    "# primA and primB define our two groups of particles (A type and B type)\n",
    "primA = draw.Polygons(vertices = verticesA[:,:2])\n",
    "primB = draw.Polygons(vertices = verticesB[:,:2])\n",
    "\n",
    "# drawing the box\n",
    "box_prim = draw.Box(color=(0, 0, 0, 1), width=.2) \n",
    "    \n",
    "# drawing the scene with both primitives\n",
    "scene = draw.Scene([primA, box_prim], zoom=.5, clip_scale=5)\n",
    "scene.add_primitive(primB)\n",
    "scene.show()\n",
    "\n",
    "box = [snap.box.Lx, snap.box.Ly, snap.box.Lz, snap.box.xy, snap.box.xz, snap.box.yz]\n",
    "for (name, val) in zip(['Lx', 'Ly', 'Lz', 'xy', 'xz', 'yz'], box):\n",
    "    setattr(box_prim, name, val) \n",
    "\n",
    "# reading in particle positions\n",
    "primA.positions = snap.particles.position[snap.particles.typeid == 0,:2]\n",
    "primB.positions = snap.particles.position[snap.particles.typeid == 1,:2]\n",
    "\n",
    "# reading in shape orientations\n",
    "primA.orientations = snap.particles.orientation\n",
    "primB.orientations = snap.particles.orientation\n",
    "\n",
    "# reading in shape sizes\n",
    "primA.diameters = np.full(len(snap.particles.position), 1)\n",
    "primB.diameters = np.full(len(snap.particles.position), 1)\n",
    "\n",
    "# colorsA = RGBA from 0 to 1\n",
    "colorsA = np.ones((len(primA.positions), 4))\n",
    "colorsA[:, :3] = color_A\n",
    "primA.colors = colorsA\n",
    "\n",
    "# colorsB = RGBA from 0 to 1\n",
    "colorsB = np.ones((len(primB.positions), 4))\n",
    "colorsB[:, :3] = color_B\n",
    "primB.colors = colorsB\n",
    "\n",
    "scene.render()"
   ]
  },
  {
   "cell_type": "markdown",
   "metadata": {},
   "source": [
    "### Running the simulation"
   ]
  },
  {
   "cell_type": "code",
   "execution_count": null,
   "metadata": {},
   "outputs": [],
   "source": [
    "# simulation setup\n",
    "\n",
    "# pressure and time settings\n",
    "total_steps = 2e5\n",
    "max_pressure = 20\n",
    "\n",
    "# Monte Carlo settings\n",
    "mc = hpmc.integrate.convex_polygon(seed=np.random.randint(1,1e6), d=0.5, a=0.5, move_ratio=0.5)\n",
    "mc.shape_param.set('A', vertices=verticesA)\n",
    "mc.shape_param.set('B', vertices=verticesB)\n",
    "\n",
    "boxMC = hpmc.update.boxmc(mc, hoomd.variant.linear_interp(points=[[0,1],[total_steps,max_pressure]],zero=0), \n",
    "                          np.random.randint(1,1e6))\n",
    "\n",
    "boxMC.volume(delta=1.0, weight=1.0)\n",
    "\n",
    "# define our simulation tuners\n",
    "particle_tuner = hpmc.util.tune(obj=mc, tunables=['d','a'], target=0.2)\n",
    "box_tuner = hpmc.util.tune_npt(obj=boxMC, tunables=['dV'],  target=0.2)\n",
    "\n",
    "def update_tuner(particle_tuner, box_tuner):\n",
    "    particle_tuner.update()\n",
    "    box_tuner.update()\n",
    "\n",
    "\n",
    "all=hoomd.group.all()"
   ]
  },
  {
   "cell_type": "code",
   "execution_count": null,
   "metadata": {},
   "outputs": [],
   "source": [
    "# record data\n",
    "\n",
    "# for visualizations\n",
    "traj = hoomd.dump.gsd(filename='traj.gsd',period=int(total_steps/100),group=all,overwrite=True)\n",
    "traj.dump_shape(mc)\n",
    "\n",
    "# for plots\n",
    "logger = hoomd.analyze.log(filename='log.txt',\n",
    "    quantities=['hpmc_translate_acceptance',\n",
    "                'hpmc_rotate_acceptance',\n",
    "                'hpmc_boxmc_volume_acceptance',\n",
    "                'hpmc_d',\n",
    "                'lx',\n",
    "                'hpmc_boxmc_betaP',\n",
    "                'hpmc_overlap_count'\n",
    "                ],\n",
    "    period=int(total_steps/100),\n",
    "    overwrite=True)"
   ]
  },
  {
   "cell_type": "code",
   "execution_count": null,
   "metadata": {},
   "outputs": [],
   "source": [
    "# running simulation\n",
    "\n",
    "# defining number of times we will tune the step size parameters\n",
    "number_loops = 100\n",
    "loop_steps = int(total_steps/number_loops)\n",
    "\n",
    "hoomd.run(total_steps, \n",
    "          callback_period = loop_steps, \n",
    "          callback = lambda tuner: update_tuner(particle_tuner,box_tuner))"
   ]
  },
  {
   "cell_type": "markdown",
   "metadata": {},
   "source": [
    "### Visualizing your simulation"
   ]
  },
  {
   "cell_type": "code",
   "execution_count": null,
   "metadata": {},
   "outputs": [],
   "source": [
    "def getFrameCount(fname):\n",
    "    \"\"\"\n",
    "    inputs: fname, the filename (ex: 'dump.gsd')\n",
    "    outputs: len(traj), number of frames in simulation\n",
    "    \"\"\"\n",
    "    with gsd.hoomd.open(fname, 'rb') as traj:\n",
    "        return len(traj)"
   ]
  },
  {
   "cell_type": "code",
   "execution_count": null,
   "metadata": {},
   "outputs": [],
   "source": [
    "filename = 'traj.gsd'\n",
    "frame_num = getFrameCount(filename)"
   ]
  },
  {
   "cell_type": "code",
   "execution_count": null,
   "metadata": {},
   "outputs": [],
   "source": [
    "primA = draw.Polygons(vertices = verticesA[:,:2])\n",
    "primB = draw.Polygons(vertices = verticesB[:,:2])\n",
    "box_prim = draw.Box(color=(0, 0, 0, 1), width=.2)\n",
    "scene = draw.Scene([primA, box_prim], zoom=.5, clip_scale=5)\n",
    "scene.add_primitive(primB)\n",
    "scene.show()\n",
    "\n",
    "# visualizations\n",
    "# looping over frames\n",
    "@widgets.interact(frame_index=(0, frame_num-1, 1))\n",
    "def plot(frame_index=0):\n",
    "    with gsd.hoomd.open(filename, 'rb') as traj:\n",
    "        frame = traj[frame_index]\n",
    "        box = frame.configuration.box\n",
    "        for (name, val) in zip(['Lx', 'Ly', 'Lz', 'xy', 'xz', 'yz'], box):\n",
    "            setattr(box_prim, name, val)  \n",
    "            \n",
    "        primA.positions = frame.particles.position[frame.particles.typeid == 0,:2]\n",
    "        primB.positions = frame.particles.position[frame.particles.typeid == 1,:2]\n",
    "        \n",
    "        primA.orientations = frame.particles.orientation\n",
    "        primB.orientations = frame.particles.orientation\n",
    "        \n",
    "        primA.diameters = np.full(len(frame.particles.position), 1)\n",
    "        primB.diameters = np.full(len(frame.particles.position), 1)\n",
    "        \n",
    "        colorsA = np.ones((len(primA.positions), 4))\n",
    "        colorsA[:, :3] = color_A\n",
    "        primA.colors = colorsA\n",
    "        \n",
    "        colorsB = np.ones((len(primB.positions), 4))\n",
    "        colorsB[:, :3] = color_B\n",
    "        primB.colors = colorsB\n",
    "    scene.render()"
   ]
  },
  {
   "cell_type": "markdown",
   "metadata": {},
   "source": [
    "### Plotting simulation data over time"
   ]
  },
  {
   "cell_type": "code",
   "execution_count": null,
   "metadata": {},
   "outputs": [],
   "source": [
    "data = np.loadtxt('log.txt',skiprows=1)"
   ]
  },
  {
   "cell_type": "code",
   "execution_count": null,
   "metadata": {},
   "outputs": [],
   "source": [
    "# Volume changes with time\n",
    "\n",
    "time = data[:,0]\n",
    "lx = data[:,5]\n",
    "volume = lx ** 3\n",
    "\n",
    "pp.scatter(time, volume);\n",
    "pp.title('Volume change over timesteps');\n",
    "pp.xlabel('Steps');\n",
    "pp.ylabel('Volume');"
   ]
  },
  {
   "cell_type": "code",
   "execution_count": null,
   "metadata": {},
   "outputs": [],
   "source": [
    "# Volume changes with pressure\n",
    "\n",
    "pressure = data[:,6]\n",
    "lx = data[:,5]\n",
    "volume = lx ** 2\n",
    "\n",
    "pp.scatter(pressure, volume);\n",
    "pp.title('Volume change over pressure');\n",
    "pp.xlabel('Pressure');\n",
    "pp.ylabel('Volume');"
   ]
  },
  {
   "cell_type": "code",
   "execution_count": null,
   "metadata": {},
   "outputs": [],
   "source": [
    "# Zoom in on the part below the initial compression\n",
    "\n",
    "pp.scatter(pressure, volume);\n",
    "pp.title('Volume change over pressure');\n",
    "pp.xlabel('Pressure');\n",
    "pp.ylabel('Volume');\n",
    "\n",
    "pp.ylim(400,1000)"
   ]
  },
  {
   "cell_type": "code",
   "execution_count": null,
   "metadata": {},
   "outputs": [],
   "source": []
  }
 ],
 "metadata": {
  "kernelspec": {
   "display_name": "Python 3",
   "language": "python",
   "name": "python3"
  },
  "language_info": {
   "codemirror_mode": {
    "name": "ipython",
    "version": 3
   },
   "file_extension": ".py",
   "mimetype": "text/x-python",
   "name": "python",
   "nbconvert_exporter": "python",
   "pygments_lexer": "ipython3",
   "version": "3.8.10"
  }
 },
 "nbformat": 4,
 "nbformat_minor": 2
}
