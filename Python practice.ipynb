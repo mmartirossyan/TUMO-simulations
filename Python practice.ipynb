{
 "cells": [
  {
   "cell_type": "markdown",
   "metadata": {},
   "source": [
    "Python practice\n",
    "====\n",
    "Adapted from: https://whitead.github.io/numerical_stats/\n",
    "\n",
    "----"
   ]
  },
  {
   "cell_type": "markdown",
   "metadata": {},
   "source": [
    "# 1. String Formatting\n",
    "\n",
    "1. Print $\\sin 0.5$ to 5 digits of precision\n",
    "2. Create a variable with a value of pi using the `math` module. Print it with 3 digits of precision\n",
    "3. Print out the number 65,535 as binary using string formatting. (Don't convert it to binary on your own)"
   ]
  },
  {
   "cell_type": "code",
   "execution_count": null,
   "metadata": {},
   "outputs": [],
   "source": [
    "#1.1\n",
    "import math"
   ]
  },
  {
   "cell_type": "code",
   "execution_count": null,
   "metadata": {},
   "outputs": [],
   "source": [
    "#1.2\n"
   ]
  },
  {
   "cell_type": "code",
   "execution_count": null,
   "metadata": {},
   "outputs": [],
   "source": [
    "#1.3\n"
   ]
  },
  {
   "cell_type": "markdown",
   "metadata": {},
   "source": [
    "# 2. Booleans\n",
    "\n",
    "1. Write an `if` statement that prints if a variable `v` is positive or negative. Demonstrate it by setting `v` to -1 and then 1.\n",
    "\n",
    "2. Write an `if` statement that will print `foo` if a string has more than 5 characters and `bar` otherwise. Demonstrate with a variable whose value is `foobar`. \n",
    "\n",
    "3. Write an `if` statement to check if the character `*` is in a string and prints `hello` if it is.  Demonstrate with a varaible whose value is `fizz*buzz`. "
   ]
  },
  {
   "cell_type": "code",
   "execution_count": null,
   "metadata": {},
   "outputs": [],
   "source": [
    "#2.1\n"
   ]
  },
  {
   "cell_type": "code",
   "execution_count": null,
   "metadata": {},
   "outputs": [],
   "source": [
    "#2.2\n"
   ]
  },
  {
   "cell_type": "code",
   "execution_count": null,
   "metadata": {},
   "outputs": [],
   "source": [
    "#2.3\n"
   ]
  },
  {
   "cell_type": "markdown",
   "metadata": {},
   "source": [
    "# 3. Lists\n",
    "\n",
    "Use this list to answer the questions: `['A', 'B', 'C', 'D', 'E', 'F', 'G']`\n",
    "\n",
    "1. Print out the second to last element of the list using a negative index.\n",
    "2. Print out the last three elements of the list using negative indices.\n",
    "3. Print out the middle element of the list using the `len` function\n",
    "4. Print every other element of the list.\n",
    "5. Print every other element of the list starting from the second element."
   ]
  },
  {
   "cell_type": "code",
   "execution_count": null,
   "metadata": {},
   "outputs": [],
   "source": [
    "v = ['A', 'B', 'C', 'D', 'E', 'F', 'G']\n",
    "\n",
    "#3.1\n"
   ]
  },
  {
   "cell_type": "code",
   "execution_count": null,
   "metadata": {},
   "outputs": [],
   "source": [
    "#3.2\n"
   ]
  },
  {
   "cell_type": "code",
   "execution_count": null,
   "metadata": {},
   "outputs": [],
   "source": [
    "#3.3\n"
   ]
  },
  {
   "cell_type": "code",
   "execution_count": null,
   "metadata": {},
   "outputs": [],
   "source": [
    "#3.4\n"
   ]
  },
  {
   "cell_type": "code",
   "execution_count": null,
   "metadata": {},
   "outputs": [],
   "source": [
    "#3.5\n"
   ]
  },
  {
   "cell_type": "markdown",
   "metadata": {},
   "source": [
    "# 4. For and while loops\n",
    "\n",
    "1. Create a variable called x which is a list containing all even numbers less than 100 using the list(range(...)) syntax.\n",
    "2. Compute the sum of x with a for loop.\n",
    "3. Create a new empty list y. Using a for loop and the append keyword, make y contain the square of each element of x. So it should contain: [4, 16, ..., ]\n",
    "4. Create a while loop that prints 'hello' three times and then stops."
   ]
  },
  {
   "cell_type": "code",
   "execution_count": null,
   "metadata": {},
   "outputs": [],
   "source": [
    "#4.1\n"
   ]
  },
  {
   "cell_type": "code",
   "execution_count": null,
   "metadata": {},
   "outputs": [],
   "source": [
    "#4.2\n"
   ]
  },
  {
   "cell_type": "code",
   "execution_count": null,
   "metadata": {},
   "outputs": [],
   "source": [
    "#4.3\n"
   ]
  },
  {
   "cell_type": "code",
   "execution_count": null,
   "metadata": {},
   "outputs": [],
   "source": [
    "#4.4\n"
   ]
  },
  {
   "cell_type": "markdown",
   "metadata": {},
   "source": [
    "# 5. Numpy\n",
    "\n",
    "1. Create a variable called `a` which is an array containing all even numbers less than 100 using the numpy arange syntax.\n",
    "2. Print the minimum, maximum, and mean elements of the array `a` using numpy functions."
   ]
  },
  {
   "cell_type": "code",
   "execution_count": null,
   "metadata": {},
   "outputs": [],
   "source": [
    "import numpy as np\n",
    "\n",
    "#5.1\n"
   ]
  },
  {
   "cell_type": "code",
   "execution_count": null,
   "metadata": {},
   "outputs": [],
   "source": [
    "#5.2\n"
   ]
  },
  {
   "cell_type": "markdown",
   "metadata": {},
   "source": [
    "# 6. Plotting\n",
    "\n",
    "For each problem below, use numpy to create `x` and `y` arrays which are plotted. Be sure to label your x-axis, y-axis, put the problem number as the title, use at least 500 points, make your figures be 4x3 inches, and add a legend if you have more than one line being plotted.\n",
    "\n",
    "1. Plot $y = x^2$ from $-1$ to $1$\n",
    "2. Plot both functions on the same plot: $\\cos x$ and $\\cosh x - 1$ from $-\\pi/2$ to $\\pi/2$"
   ]
  },
  {
   "cell_type": "code",
   "execution_count": null,
   "metadata": {},
   "outputs": [],
   "source": [
    "import matplotlib.pyplot as pp\n",
    "%matplotlib inline\n",
    "\n",
    "#6.1\n"
   ]
  },
  {
   "cell_type": "code",
   "execution_count": null,
   "metadata": {},
   "outputs": [],
   "source": [
    "#6.2\n",
    "\n"
   ]
  },
  {
   "cell_type": "code",
   "execution_count": null,
   "metadata": {},
   "outputs": [],
   "source": []
  }
 ],
 "metadata": {
  "kernelspec": {
   "display_name": "Python 3",
   "language": "python",
   "name": "python3"
  },
  "language_info": {
   "codemirror_mode": {
    "name": "ipython",
    "version": 3
   },
   "file_extension": ".py",
   "mimetype": "text/x-python",
   "name": "python",
   "nbconvert_exporter": "python",
   "pygments_lexer": "ipython3",
   "version": "3.7.4"
  }
 },
 "nbformat": 4,
 "nbformat_minor": 2
}
